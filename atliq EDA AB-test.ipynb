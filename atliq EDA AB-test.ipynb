{
 "cells": [
  {
   "cell_type": "markdown",
   "id": "6a549f1e",
   "metadata": {},
   "source": [
    "# 📊 AtliQ Hardware - Financial Performance Analysis Report"
   ]
  },
  {
   "cell_type": "markdown",
   "id": "3834a284",
   "metadata": {},
   "source": [
    "<h2 style=\"background-color:#2ecc71; color:white; padding:10px; border-radius:6px; text-align:center\">\n",
    "Table of Contents\n",
    "</h2>"
   ]
  },
  {
   "cell_type": "markdown",
   "id": "c76dc065",
   "metadata": {},
   "source": [
    "<a id='back'></a>\n",
    "\n",
    "* [Introduction](#intro)   \n",
    "*Executive Summary and Project Overview*\n",
    "* [Stage 1. Data overview and preprocessing](#data_review)\n",
    "    * [Conclusions](#data_review_conclusions)\n",
    "    \n",
    "* [Stage 2. Financial Performance Trends Analysis](#fin)\n",
    "    \n",
    "    * [2.1 Time-Based Metrics](#time)\n",
    "        * [2.1.1 Revenue](#rev)\n",
    "        * [2.1.2 Gross Profit](#gp)\n",
    "        * [2.1.3 Gross Margin](#gm)\n",
    "        * [2.1.4 CAGR](#cagr)\n",
    "        * [Conclusions](#time_conclusions)\n",
    "        \n",
    "    * [2.2 Category-Based Metrics](#Category)\n",
    "        * [2.2.1 Revenue](#cat_rev)\n",
    "        * [2.2.2 Gross Profit](#cat_gp)\n",
    "        * [2.2.3 Gross Margin](#cat_gm)\n",
    "        * [Conclusions](#cat_conclusions)\n",
    "        \n",
    "    * [2.3 Markets](#market)\n",
    "        * [2.3.1 Revenue](#market_rev)\n",
    "        * [2.3.2 Gross Profit](#market_gp)\n",
    "        * [2.3.3 Gross Margin](#market_gm)\n",
    "        * [2.3.4 Market-level profitability matrix](#market_matrix)\n",
    "        * [2.3.5 Annual revenue by market](#annual_rev)\n",
    "        * [Conclusions](#market_conclusions)\n",
    "        \n",
    "    * [2.4 Waterfall Analysis](#wf)\n",
    "    \n",
    "    * [2.5 All Final Visualizations and conclusions](#fin_conclusions)\n",
    "    \n",
    "* [Stage 3. Formulating Hypothesis, A/B Test Analysis](#hypo)\n",
    "    * [3.1 Formulating Hypothesis](#prior)\n",
    "    * [3.2 A/B Test Analysis](#ab)\n",
    "    * [3.3 Conclusions](#hypo_conclusions)\n",
    "    \n",
    "* [Stage 4. Financial Health Dashboard](#dash)\n",
    "    * [4.1 The Dashboard](#dash)\n",
    "    * [4.2 Conclusions](#dash_conclusions)"
   ]
  },
  {
   "cell_type": "markdown",
   "id": "0a10aa92",
   "metadata": {},
   "source": [
    "## Introduction <a id='intro'></a>\n",
    "In this project we are working as junior analysts for the TTWC consulting agency (\"TripleTen World Consultancy\"). This year, we're dealing with a particularly special client: AtliQ Hardware.\n",
    "AtliQ Hardware is one of the leading computer hardware producers in India, and has even expanded into other countries as well. They sell different types of hardware to big players such as Amazon, Best Buy, and Walmart. This year, they're asking PWC to conduct a big audit of their sales and help them automate their existing data. AtliQ Hardware has provided us with a backup of their database in the SQLite format. \n",
    "\n",
    "The clients are particularly interested in three business areas: Financial Analysis, Product Analysis and Customer Analysis. This EDA is focused on the first area - Financial Analysis.\n",
    "The goal of the project is to analyze financial performance trends, identify market dynamics, and determine the most profitable segments in order to optimize revenue and profitability strategies.\n",
    "\n",
    "The project will consist of four stages:\n",
    " 1. Data overview and preprocessing \n",
    " 2. Financial Performance Trends Analysis\n",
    " 3. Prioritizing Hypotheses and A/B Test Analysis\n",
    " 4. Financial Health Dashboard prepared in Tableau\n"
   ]
  },
  {
   "cell_type": "markdown",
   "id": "723b22c6",
   "metadata": {},
   "source": [
    "## Stage 1. Data overview and preprocessing <a id='data_review'></a>\n",
    "Importing all the necessary libraries and reading the dataset from a csv file using pandas.\n",
    "Obtaining the information about the table using different ways to check for missing values, duplicates and the correctness of column namings. \n"
   ]
  },
  {
   "cell_type": "code",
   "execution_count": null,
   "id": "463e42d0",
   "metadata": {},
   "outputs": [],
   "source": [
    "import sqlite3\n",
    "import pandas as pd\n",
    "import matplotlib.pyplot as plt\n",
    "import seaborn as sns\n",
    "import matplotlib.ticker as ticker\n",
    "from datetime import datetime\n",
    "from matplotlib.ticker import FuncFormatter\n",
    "from matplotlib.colors import LinearSegmentedColormap\n",
    "import plotly.graph_objects as go\n",
    "import numpy as np\n",
    "from IPython.display import Image, display\n",
    "import os\n",
    "from scipy import stats"
   ]
  },
  {
   "cell_type": "code",
   "execution_count": null,
   "id": "f2de13ce",
   "metadata": {},
   "outputs": [],
   "source": [
    "con = sqlite3.connect('atliq_db.sqlite3') \n",
    "cursor = con.cursor()\n",
    "cursor.execute(\"SELECT name FROM sqlite_master WHERE type='table';\")\n",
    "print(cursor.fetchall())\n"
   ]
  },
  {
   "cell_type": "code",
   "execution_count": null,
   "id": "9ceb97ca",
   "metadata": {},
   "outputs": [],
   "source": [
    "def download_check(table):\n",
    "    con = sqlite3.connect(\"atliq_db.sqlite3\")\n",
    "    query = f\"SELECT * FROM {table}\"\n",
    "    df = pd.read_sql_query(query, con)\n",
    "    con.close()\n",
    "    print(df.head(3))\n",
    "    print ('-'*30)\n",
    "    print(df.info())\n",
    "    print(\"-\" * 30)\n",
    "    print(df.nunique())\n",
    "    print(\"-\" * 30)\n",
    "    print(df.isna().sum())\n",
    "    print(\"-\" * 30)\n",
    "    print('Duplicated:', df.duplicated().sum())\n",
    "    print(\"-\" * 30)\n",
    "    print(df.columns)\n",
    "    print(\"-\" * 30)\n",
    "    print(df.describe())\n",
    "    return df"
   ]
  },
  {
   "cell_type": "code",
   "execution_count": null,
   "id": "081c2f8b",
   "metadata": {},
   "outputs": [],
   "source": [
    "dim_customer = download_check(\"dim_customer\")"
   ]
  },
  {
   "cell_type": "code",
   "execution_count": null,
   "id": "3573e377",
   "metadata": {},
   "outputs": [],
   "source": [
    "dim_customer.groupby('market').nunique()"
   ]
  },
  {
   "cell_type": "code",
   "execution_count": null,
   "id": "98b63da7",
   "metadata": {},
   "outputs": [],
   "source": [
    "dim_customer.groupby(\"customer\").nunique().sort_values(by='platform', ascending=False).head(3)"
   ]
  },
  {
   "cell_type": "code",
   "execution_count": null,
   "id": "f1ecd2fc",
   "metadata": {},
   "outputs": [],
   "source": [
    "dim_customer['platform'] = dim_customer['platform'].astype(\"category\")\n",
    "dim_customer[\"channel\"] = dim_customer[\"channel\"].astype(\"category\")"
   ]
  },
  {
   "cell_type": "code",
   "execution_count": null,
   "id": "86c3a466",
   "metadata": {},
   "outputs": [],
   "source": [
    "dim_customer.info()"
   ]
  },
  {
   "cell_type": "code",
   "execution_count": null,
   "id": "01955f89",
   "metadata": {},
   "outputs": [],
   "source": [
    "dim_product = download_check(\"dim_product\")"
   ]
  },
  {
   "cell_type": "code",
   "execution_count": null,
   "id": "2f56c300",
   "metadata": {},
   "outputs": [],
   "source": [
    "dim_product['division'] = dim_product['division'].astype(\"category\")\n",
    "dim_product[\"segment\"] = dim_product[\"segment\"].astype(\"category\")"
   ]
  },
  {
   "cell_type": "code",
   "execution_count": null,
   "id": "338df460",
   "metadata": {},
   "outputs": [],
   "source": [
    "dim_product.info()"
   ]
  },
  {
   "cell_type": "code",
   "execution_count": null,
   "id": "cef8cdb1",
   "metadata": {},
   "outputs": [],
   "source": [
    "fact_pre_discount = download_check(\"fact_pre_discount\")"
   ]
  },
  {
   "cell_type": "code",
   "execution_count": null,
   "id": "de250d01",
   "metadata": {},
   "outputs": [],
   "source": [
    "fact_manufacturing_cost = download_check(\"fact_manufacturing_cost\")"
   ]
  },
  {
   "cell_type": "code",
   "execution_count": null,
   "id": "821bf72f",
   "metadata": {},
   "outputs": [],
   "source": [
    "fact_manufacturing_cost['product_code'].duplicated().sum()"
   ]
  },
  {
   "cell_type": "code",
   "execution_count": null,
   "id": "bda0d7dd",
   "metadata": {},
   "outputs": [],
   "source": [
    "fact_gross_price = download_check(\"fact_gross_price\")"
   ]
  },
  {
   "cell_type": "code",
   "execution_count": null,
   "id": "3e63a1de",
   "metadata": {},
   "outputs": [],
   "source": [
    "fact_gross_price['product_code'].duplicated().sum()"
   ]
  },
  {
   "cell_type": "code",
   "execution_count": null,
   "id": "1a7c1542",
   "metadata": {},
   "outputs": [],
   "source": [
    "fact_sales_monthly = download_check(\"fact_sales_monthly\")"
   ]
  },
  {
   "cell_type": "code",
   "execution_count": null,
   "id": "8625fd2b",
   "metadata": {},
   "outputs": [],
   "source": [
    "fact_sales_monthly = fact_sales_monthly.dropna()"
   ]
  },
  {
   "cell_type": "code",
   "execution_count": null,
   "id": "62bfe309",
   "metadata": {},
   "outputs": [],
   "source": [
    "fact_sales_monthly.isna().sum()"
   ]
  },
  {
   "cell_type": "code",
   "execution_count": null,
   "id": "27fdc36c",
   "metadata": {},
   "outputs": [],
   "source": [
    "fact_sales_monthly[\"date\"] = pd.to_datetime(\n",
    "    fact_sales_monthly[\"date\"], format=\"%Y-%m-%d\"\n",
    ")\n",
    "fact_sales_monthly[\"customer_code\"] = fact_sales_monthly[\"customer_code\"].astype(\n",
    "    \"int64\"\n",
    ")\n",
    "fact_sales_monthly[\"sold_quantity\"] = fact_sales_monthly[\"sold_quantity\"].astype(\n",
    "    \"int64\"\n",
    ")\n",
    "fact_sales_monthly[\"fiscal_year\"] = fact_sales_monthly[\"fiscal_year\"].astype(\"int64\")"
   ]
  },
  {
   "cell_type": "code",
   "execution_count": null,
   "id": "dd53af44",
   "metadata": {},
   "outputs": [],
   "source": [
    "fact_sales_monthly.info()"
   ]
  },
  {
   "cell_type": "code",
   "execution_count": null,
   "id": "7422744f",
   "metadata": {},
   "outputs": [],
   "source": [
    "sorted(fact_sales_monthly[fact_sales_monthly[\"fiscal_year\"] == 2018][\"date\"].unique())"
   ]
  },
  {
   "cell_type": "code",
   "execution_count": null,
   "id": "6315e0c2",
   "metadata": {},
   "outputs": [],
   "source": [
    "sorted(fact_sales_monthly[fact_sales_monthly[\"fiscal_year\"] == 2019][\"date\"].unique())"
   ]
  },
  {
   "cell_type": "code",
   "execution_count": null,
   "id": "7a10ef5b",
   "metadata": {},
   "outputs": [],
   "source": [
    "sorted(fact_sales_monthly[fact_sales_monthly[\"fiscal_year\"] == 2020][\"date\"].unique())"
   ]
  },
  {
   "cell_type": "code",
   "execution_count": null,
   "id": "7f42cb0e",
   "metadata": {},
   "outputs": [],
   "source": [
    "sorted(fact_sales_monthly[fact_sales_monthly[\"fiscal_year\"] == 2021][\"date\"].unique())"
   ]
  },
  {
   "cell_type": "code",
   "execution_count": null,
   "id": "a92f127f",
   "metadata": {},
   "outputs": [],
   "source": [
    "sorted(fact_sales_monthly[fact_sales_monthly[\"fiscal_year\"] == 2022][\"date\"].unique())"
   ]
  },
  {
   "cell_type": "code",
   "execution_count": null,
   "id": "62d020b1",
   "metadata": {},
   "outputs": [],
   "source": [
    "fact_sales_monthly[fact_sales_monthly[\"fiscal_year\"] == 2022].info()"
   ]
  },
  {
   "cell_type": "code",
   "execution_count": null,
   "id": "375cb4d4",
   "metadata": {},
   "outputs": [],
   "source": [
    "fact_sales_monthly_18_21 = fact_sales_monthly[~(fact_sales_monthly[\"fiscal_year\"] == 2022)]\n",
    "fact_sales_monthly_18_21.info()"
   ]
  },
  {
   "cell_type": "markdown",
   "id": "cacae308",
   "metadata": {},
   "source": [
    "#### Data Merging"
   ]
  },
  {
   "cell_type": "code",
   "execution_count": null,
   "id": "e71eb9cf",
   "metadata": {},
   "outputs": [],
   "source": [
    "df = fact_sales_monthly_18_21.merge(dim_product, how='left')\n",
    "df = df.drop([\"division\", \"segment\", \"product\", \"variant\"], axis=1)\n",
    "df.head()"
   ]
  },
  {
   "cell_type": "code",
   "execution_count": null,
   "id": "88448e02",
   "metadata": {},
   "outputs": [],
   "source": [
    "df = df.merge(fact_manufacturing_cost, left_on=['product_code', 'fiscal_year'], right_on=['product_code', 'cost_year'], how=\"left\")\n",
    "df = df.drop(columns='cost_year')"
   ]
  },
  {
   "cell_type": "code",
   "execution_count": null,
   "id": "ffde8f2d",
   "metadata": {},
   "outputs": [],
   "source": [
    "df = df.merge(fact_gross_price, how='left', on=['fiscal_year', 'product_code'])\n",
    "df.head()"
   ]
  },
  {
   "cell_type": "code",
   "execution_count": null,
   "id": "ffe4544d",
   "metadata": {},
   "outputs": [],
   "source": [
    "df = df.merge(fact_pre_discount, how='left', on=['fiscal_year', 'customer_code'])\n",
    "df.head()"
   ]
  },
  {
   "cell_type": "code",
   "execution_count": null,
   "id": "55ec6d85",
   "metadata": {},
   "outputs": [],
   "source": [
    "df = df.merge(dim_customer, how='left')\n",
    "df.head()"
   ]
  },
  {
   "cell_type": "code",
   "execution_count": null,
   "id": "7d9e2ba7",
   "metadata": {},
   "outputs": [],
   "source": [
    "df_cust = df # the variable may be useful for deeper customer analysis"
   ]
  },
  {
   "cell_type": "code",
   "execution_count": null,
   "id": "03bf9180",
   "metadata": {},
   "outputs": [],
   "source": [
    "df = df.drop([\"customer\", \"platform\", \"channel\", \"sub_zone\"], axis=1)\n",
    "df.head()"
   ]
  },
  {
   "cell_type": "markdown",
   "id": "28fcb27c",
   "metadata": {},
   "source": [
    "## Conclusions <a id='data_review_conclusions'></a>\n",
    "There are 6 tables in the dataset.  Below is a data dictionary that lists the columns in each table and describes the data that they hold. \n",
    "\n",
    "**1. dim_customer** - contains customer-related data\n",
    "- 'customer_code': \tunique identifier of customer\n",
    "- 'customer': company name of the customer\n",
    "- 'platform': platform, through which the sale’s been done\n",
    "- 'channel': channel of sale\t\n",
    "- 'market': country of the customer’s office\n",
    "- 'sub_zone': abbreviation of the region\n",
    "- 'region': region of the customer’s office\n",
    "\n",
    "**2. dim_product** - contains product-related data\n",
    "- 'product_code': unique identifier of product\n",
    "- 'division': group of the product\n",
    "- 'segment': type of product (sub-division)\n",
    "- 'category': category of the product\n",
    "- 'product': full product name\n",
    "- 'variant': variant of the product\n",
    "\n",
    "**3. fact_pre_discount** - contains pre-invoice deductions information for each product\n",
    "- 'customer_code': unique identifier of customer\n",
    "- 'fiscal_year': year when the discount was valid\n",
    "- 'pre_invoice_discount_pct': discount % per invoice for specific customer\n",
    "\n",
    "**4. fact_manufacturing_cost** - contains the cost incurred in the production of each product\n",
    "- 'product_code': unique identifier of product\n",
    "- 'cost_year': year of production\n",
    "- 'manufacturing_cost': cost of production of unit of product\n",
    "\n",
    "**5. fact_gross_price** - contains gross price information for each product\n",
    "- 'product_code': unique identifier of product\n",
    "- 'fiscal_year': year of transaction\n",
    "- 'gross_price': final price for the product\n",
    "\n",
    "**6. fact_sales_monthly** - contains monthly sales data for each product\n",
    "- 'date': date of transaction\n",
    "- 'product_code': unique identifier of product\n",
    "- 'customer_code': unique identifier of customer\n",
    "- 'sold_quantity': sold items to customer on that date\n",
    "- 'fiscal_year': year of transaction\n",
    "\n",
    "In our exploratory data analysis preprocessing phase, we successfully prepared the dataset for further analysis. The data integrity checks revealed some duplicate records and missing values, so that in order to perform a meaningfull analysis we had to get rid of 10% of the original data. We improved data organization by standardizing column names using a consistent naming convention. Additionally, we optimized data types for each variable to ensure appropriate storage and computational efficiency. These preprocessing steps have established a solid foundation for our subsequent analysis, ensuring that our insights will be based on properly structured and validated data.\n",
    "\n",
    "Finally, we merged all the necessary for our future analysis data into a clean and complete dataset to work with, having the following structure:\n",
    "\n",
    "**df** - contains the sales information, combined with markets, customers and products to reveal the whole picture \n",
    "- 'date': date of transaction              \n",
    "- 'product_code': unique identifier of product             \n",
    "- 'customer_code': unique identifier of customer        \n",
    "- 'sold_quantity ': sold items to customer on that date           \n",
    "- 'fiscal_year': year of transaction                \n",
    "- 'category': category of the product               \n",
    "- 'manufacturing_cost':  cost of production of unit of product       \n",
    "- 'gross_price': final price for the product           \n",
    "- 'pre_invoice_discount_pct': discount % per invoice for specific customer \n",
    "- 'market': country of the customer’s office    \n",
    "- 'region': region of the customer’s office   \n",
    "\n",
    "[Back to Contents](#back)"
   ]
  },
  {
   "cell_type": "markdown",
   "id": "335b998d",
   "metadata": {},
   "source": [
    "<h2 style=\"background-color:#2ecc71; color:white; padding:10px; border-radius:6px; text-align:center\">\n",
    "2. Business Metrics 📊\n",
    "</h2>\n",
    "<a id='fin'></a>"
   ]
  },
  {
   "cell_type": "markdown",
   "id": "a7461bbc",
   "metadata": {},
   "source": [
    "<h3 style=\"color:#588ac0; margin-top:20px\">2.1 🕒 Time-Based Metrics </h3>\n",
    "<a id='time'></a>"
   ]
  },
  {
   "cell_type": "markdown",
   "id": "1eb8c4c6",
   "metadata": {},
   "source": [
    "<h4 style=\"color:#588ac0\">2.1.1 📈 Revenue </h4> \n",
    "<a id='rev'></a>"
   ]
  },
  {
   "cell_type": "code",
   "execution_count": null,
   "id": "c4db0ab7",
   "metadata": {},
   "outputs": [],
   "source": [
    "df['revenue'] = df['sold_quantity']*df['gross_price']*(1-df['pre_invoice_discount_pct'])\n",
    "df.head()"
   ]
  },
  {
   "cell_type": "code",
   "execution_count": null,
   "id": "6d9f68af",
   "metadata": {},
   "outputs": [],
   "source": [
    "df[\"revenue\"] = (\n",
    "    df['revenue'].round(4)\n",
    ")"
   ]
  },
  {
   "cell_type": "code",
   "execution_count": null,
   "id": "3b5765df",
   "metadata": {},
   "outputs": [],
   "source": [
    "revenue_y = df.groupby('fiscal_year')['revenue'].sum().round().reset_index()"
   ]
  },
  {
   "cell_type": "code",
   "execution_count": null,
   "id": "79a544ad",
   "metadata": {},
   "outputs": [],
   "source": [
    "revenue_y"
   ]
  },
  {
   "cell_type": "code",
   "execution_count": null,
   "id": "f3d1b95e",
   "metadata": {},
   "outputs": [],
   "source": [
    "rev = sns.barplot(x=\"fiscal_year\", y=\"revenue\", data=revenue_y, color=\"#2ecc71\")\n",
    "plt.title(\"Total Revenue by Fiscal Year\", fontweight=\"semibold\")\n",
    "rev.yaxis.set_major_formatter(ticker.FuncFormatter(lambda x, _: f\"{int(x/1e6)}M\"))\n",
    "rev.set_xlabel(\"Fiscal Year\")\n",
    "rev.set_ylabel(\"Revenue (in millions)\")\n",
    "for index, row in revenue_y.iterrows():\n",
    "    rev.text(index, row.revenue + 80000, f\"{int(row.revenue)}$\", ha=\"center\")\n",
    "plt.tight_layout()\n",
    "plt.savefig(\"1.png\", dpi=300, bbox_inches=\"tight\")\n",
    "plt.show()"
   ]
  },
  {
   "cell_type": "markdown",
   "id": "031fbcbc",
   "metadata": {},
   "source": [
    "AtliQ Hardware shows strong year-over-year revenue growth.\n",
    "\n",
    "The revenue nearly doubled every year between 2018 and 2021. This upward trend indicates market expansion.\n",
    "\n",
    "The consistent growth suggests a healthy and scalable business model."
   ]
  },
  {
   "cell_type": "code",
   "execution_count": null,
   "id": "697fb6d1",
   "metadata": {},
   "outputs": [],
   "source": [
    "df[\"calendar_month\"] = df[\"date\"].dt.month\n",
    "df[\"calendar_year\"] = df[\"date\"].dt.year\n",
    "df[\"month_name\"] = df[\"date\"].dt.strftime(\"%B\")"
   ]
  },
  {
   "cell_type": "code",
   "execution_count": null,
   "id": "180c4ddc",
   "metadata": {},
   "outputs": [],
   "source": [
    "def get_fiscal_month(date, fiscal_year):\n",
    "    if date.month >= 9:  \n",
    "        return date.month - 8\n",
    "    else:  \n",
    "        return date.month + 4\n",
    "\n",
    "df[\"fiscal_month\"] = df.apply(\n",
    "    lambda row: get_fiscal_month(row[\"date\"], row[\"fiscal_year\"]), axis=1\n",
    ")\n",
    "\n",
    "fiscal_month_names = {\n",
    "    1: \"Sep\",\n",
    "    2: \"Oct\",\n",
    "    3: \"Nov\",\n",
    "    4: \"Dec\",\n",
    "    5: \"Jan\",\n",
    "    6: \"Feb\",\n",
    "    7: \"Mar\",\n",
    "    8: \"Apr\",\n",
    "    9: \"May\",\n",
    "    10: \"Jun\",\n",
    "    11: \"Jul\",\n",
    "    12: \"Aug\",\n",
    "}\n",
    "df[\"fiscal_month_name\"] = df[\"fiscal_month\"].map(\n",
    "    fiscal_month_names\n",
    ")\n",
    "\n",
    "revenue_m = (\n",
    "    df.groupby([\"fiscal_year\", \"fiscal_month\", \"fiscal_month_name\"])\n",
    "    .agg(\n",
    "        {\n",
    "            \"revenue\": \"sum\", \n",
    "            \"sold_quantity\": \"sum\",\n",
    "        }\n",
    "    )\n",
    "    .reset_index()\n",
    ")\n",
    "\n",
    "revenue_m = revenue_m.sort_values([\"fiscal_year\", \"fiscal_month\"])\n",
    "revenue_m.head()\n"
   ]
  },
  {
   "cell_type": "code",
   "execution_count": null,
   "id": "026b4978",
   "metadata": {},
   "outputs": [],
   "source": [
    "revenue_m[\"revenue_change_pct\"] = (\n",
    "    revenue_m.groupby(\"fiscal_year\")[\"revenue\"].pct_change() * 100\n",
    ")\n",
    "revenue_m[\"revenue_change_abs\"] = revenue_m.groupby(\"fiscal_year\")[\"revenue\"].diff()\n",
    "revenue_m[\"cumulative_revenue\"] = revenue_m.groupby(\"fiscal_year\")[\"revenue\"].cumsum()\n",
    "revenue_m.head()"
   ]
  },
  {
   "cell_type": "code",
   "execution_count": null,
   "id": "c4d71408",
   "metadata": {},
   "outputs": [],
   "source": [
    "sns.set_style(\"whitegrid\")\n",
    "color_map = {\n",
    "    2018: \"#ff4040\",\n",
    "    2019: \"#ff8c00\",\n",
    "    2020: \"#f1c40f\",\n",
    "    2021: \"#2ecc71\",\n",
    "}\n",
    "fig, axes = plt.subplots(2, 2, figsize=(16, 12))\n",
    "fig.suptitle(\"Monthly Revenue Analysis by Fiscal Year\", fontsize=16, fontweight=\"bold\")\n",
    "ax1 = axes[0, 0]\n",
    "for fy in revenue_m[\"fiscal_year\"].unique():\n",
    "    data = revenue_m[revenue_m[\"fiscal_year\"] == fy]\n",
    "    ax1.plot(\n",
    "        data[\"fiscal_month\"],\n",
    "        data[\"revenue\"],\n",
    "        marker=\"o\",\n",
    "        linewidth=2,\n",
    "        markersize=6,\n",
    "        label=f\"{int(fy)}\",\n",
    "        color=color_map[int(fy)]\n",
    "    )\n",
    "\n",
    "ax1.set_title(\"Monthly Revenue by Fiscal Year\", fontweight=\"bold\")\n",
    "ax1.set_xlabel(\"Fiscal Month\")\n",
    "ax1.set_ylabel(\"Revenue\")\n",
    "ax1.set_xticks(range(1, 13))\n",
    "ax1.set_xticklabels([fiscal_month_names[i] for i in range(1, 13)], rotation=45)\n",
    "ax1.legend()\n",
    "ax1.grid(True, alpha=0.3)\n",
    "\n",
    "\n",
    "ax2 = axes[0, 1]\n",
    "pivot_changes = revenue_m.pivot(\n",
    "    index=\"fiscal_month_name\", columns=\"fiscal_year\", values=\"revenue_change_pct\"\n",
    ")\n",
    "fiscal_order = [\n",
    "    \"Sep\",\n",
    "    \"Oct\",\n",
    "    \"Nov\",\n",
    "    \"Dec\",\n",
    "    \"Jan\",\n",
    "    \"Feb\",\n",
    "    \"Mar\",\n",
    "    \"Apr\",\n",
    "    \"May\",\n",
    "    \"Jun\",\n",
    "    \"Jul\",\n",
    "    \"Aug\",\n",
    "]\n",
    "pivot_changes = pivot_changes.reindex(fiscal_order)\n",
    "\n",
    "sns.heatmap(\n",
    "    pivot_changes,\n",
    "    annot=True,\n",
    "    fmt=\".1f\",\n",
    "    cmap=\"RdYlGn\",\n",
    "    center=0,\n",
    "    ax=ax2,\n",
    "    cbar_kws={\"label\": \"Change %\"},\n",
    ")\n",
    "ax2.set_title(\"Month-over-Month Revenue Changes (%)\", fontweight=\"bold\")\n",
    "ax2.set_xlabel(\"Fiscal Year\")\n",
    "ax2.set_ylabel(\"Fiscal Month\")\n",
    "\n",
    "ax3 = axes[1, 0]\n",
    "for fy in revenue_m[\"fiscal_year\"].unique():\n",
    "    data = revenue_m[revenue_m[\"fiscal_year\"] == fy]\n",
    "    ax3.plot(\n",
    "        data[\"fiscal_month\"],\n",
    "        data[\"cumulative_revenue\"],\n",
    "        marker=\"s\",\n",
    "        linewidth=2,\n",
    "        markersize=6,\n",
    "        label=f\"{int(fy)}\",\n",
    "        color=color_map[int(fy)]\n",
    "    )\n",
    "\n",
    "ax3.set_title(\"Cumulative Revenue by Fiscal Year\", fontweight=\"bold\")\n",
    "ax3.set_xlabel(\"Fiscal Month\")\n",
    "ax3.set_ylabel(\"Cumulative Revenue\")\n",
    "ax3.set_xticks(range(1, 13))\n",
    "ax3.set_xticklabels([fiscal_month_names[i] for i in range(1, 13)], rotation=45)\n",
    "ax3.legend()\n",
    "ax3.grid(True, alpha=0.3)\n",
    "\n",
    "ax4 = axes[1, 1]\n",
    "pivot_revenue = revenue_m.pivot(\n",
    "    index=\"fiscal_month_name\",\n",
    "    columns=\"fiscal_year\",\n",
    "    values=\"revenue\",\n",
    "    )\n",
    "pivot_revenue = pivot_revenue.reindex(fiscal_order)\n",
    "colors = [color_map[year] for year in pivot_revenue.columns]\n",
    "pivot_revenue.plot(kind=\"bar\", ax=ax4, width=0.8, color=colors)\n",
    "ax4.set_title(\"Revenue Comparison by Fiscal Month\", fontweight=\"bold\")\n",
    "ax4.set_xlabel(\"Fiscal Month\")\n",
    "ax4.set_ylabel(\"Revenue\")\n",
    "ax4.legend(title=\"Fiscal Year\")\n",
    "ax4.tick_params(axis=\"x\", rotation=45)\n",
    "\n",
    "def millions(x, pos):\n",
    "    return f\"{x*1e-6:.1f}M\"\n",
    "\n",
    "\n",
    "formatter = FuncFormatter(millions)\n",
    "for ax in [ax1, ax3, ax4]:\n",
    "    ax.yaxis.set_major_formatter(formatter)\n",
    "\n",
    "plt.tight_layout(rect=[0, 0, 1, 0.97])\n",
    "plt.savefig(\"2.png\", dpi=300, bbox_inches=\"tight\")\n",
    "plt.show()"
   ]
  },
  {
   "cell_type": "markdown",
   "id": "4ededfe4",
   "metadata": {},
   "source": [
    "**Key insights**\n",
    "\n",
    "* Revenue in 2021 consistently outperforms previous years across all months.\n",
    "* From January onward, 2021 maintains a consistently high monthly revenue base (~1.3M), reflecting operational maturity or a sustained growth initiative.\n",
    "* Fiscal years 2020-2021 showed a steady increase, particularly from October to December. There is a strong seasonal spike, indicating likely holiday or promotional impacts.\n",
    "* Earlier years (2018–2019) have much lower cumulative totals, proving consistent year-over-year growth of the business we saw on the previous graph. 2018 shows the lowest and flattest revenue trend, suggesting either early-stage operations or low growth. \n",
    "* October and November appear to be consistently strong revenue months across all fiscal years.\n",
    "* December is consistently the highest revenue month, especially for 2020 and 2021.\n",
    "* January-March period exhibits relatively lower revenue, suggesting seasonal market slowdown.\n",
    "* April-June shows revenue recovery, indicating cyclical business patterns.\n",
    "* Stabilization trend appears towards the end of each fiscal year (Jun-Aug).\n",
    "\n",
    "[Back to Contents](#back)"
   ]
  },
  {
   "cell_type": "code",
   "execution_count": null,
   "id": "d5d2450a",
   "metadata": {},
   "outputs": [],
   "source": [
    "df.info()"
   ]
  },
  {
   "cell_type": "markdown",
   "id": "d05e2f3f",
   "metadata": {},
   "source": [
    "<h4 style=\"color:#588ac0\">2.1.2 💰 Gross Profit </h4>  \n",
    "<a id='gp'></a>"
   ]
  },
  {
   "cell_type": "code",
   "execution_count": null,
   "id": "9253c9a0",
   "metadata": {},
   "outputs": [],
   "source": [
    "df.head()"
   ]
  },
  {
   "cell_type": "code",
   "execution_count": null,
   "id": "f952fa3e",
   "metadata": {},
   "outputs": [],
   "source": [
    "df['gp'] = df['revenue']-df['manufacturing_cost']*df['sold_quantity']\n",
    "df.head(1)"
   ]
  },
  {
   "cell_type": "code",
   "execution_count": null,
   "id": "95d9f885",
   "metadata": {},
   "outputs": [],
   "source": [
    "df[\"gp\"] = (\n",
    "    df['gp'].round(4)\n",
    ")"
   ]
  },
  {
   "cell_type": "code",
   "execution_count": null,
   "id": "daa65e3c",
   "metadata": {},
   "outputs": [],
   "source": [
    "gp_y = df.groupby('fiscal_year')['gp'].sum().round().reset_index()"
   ]
  },
  {
   "cell_type": "code",
   "execution_count": null,
   "id": "635338cb",
   "metadata": {},
   "outputs": [],
   "source": [
    "gp_y"
   ]
  },
  {
   "cell_type": "code",
   "execution_count": null,
   "id": "ce2c9f8f",
   "metadata": {},
   "outputs": [],
   "source": [
    "gp = sns.barplot(x=\"fiscal_year\", y=\"gp\", data=gp_y, color=\"#2ecc71\")\n",
    "plt.title(\"Gross Profit by Fiscal Year\", fontweight=\"semibold\")\n",
    "gp.yaxis.set_major_formatter(ticker.FuncFormatter(lambda x, _: f\"{int(x/1e6)}M\"))\n",
    "gp.set_xlabel(\"Fiscal Year\")\n",
    "gp.set_ylabel(\"Gross Profit (in millions)\")\n",
    "for index, row in gp_y.iterrows():\n",
    "    gp.text(index, row.gp + 80000, f\"{int(row.gp)}$\", ha=\"center\")\n",
    "plt.tight_layout()\n",
    "plt.savefig(\"3.png\", dpi=300, bbox_inches=\"tight\")\n",
    "plt.show()"
   ]
  },
  {
   "cell_type": "markdown",
   "id": "9ec24058",
   "metadata": {},
   "source": [
    "Gross profit follows the revenue growth trend closely.\n",
    "Profitability scales with volume, which supports AtliQ’s current pricing and cost strategy.\n"
   ]
  },
  {
   "cell_type": "code",
   "execution_count": null,
   "id": "fbbeaabd",
   "metadata": {},
   "outputs": [],
   "source": [
    "gp_m = (\n",
    "    df.groupby([\"fiscal_year\", \"fiscal_month\", \"fiscal_month_name\"])\n",
    "    .agg(\n",
    "        {\n",
    "            \"gp\": \"sum\"\n",
    "        }\n",
    "    )\n",
    "    .reset_index()\n",
    ")\n",
    "\n",
    "gp_m = gp_m.sort_values([\"fiscal_year\", \"fiscal_month\"])\n",
    "gp_m.head()\n"
   ]
  },
  {
   "cell_type": "code",
   "execution_count": null,
   "id": "388995b1",
   "metadata": {},
   "outputs": [],
   "source": [
    "gp_m[\"gp_change_pct\"] = (\n",
    "    gp_m.groupby(\"fiscal_year\")[\"gp\"].pct_change() * 100\n",
    ")\n",
    "gp_m[\"gp_change_abs\"] = gp_m.groupby(\"fiscal_year\")[\"gp\"].diff()\n",
    "gp_m[\"cumulative_gp\"] = gp_m.groupby(\"fiscal_year\")[\"gp\"].cumsum()\n",
    "gp_m.head()"
   ]
  },
  {
   "cell_type": "code",
   "execution_count": null,
   "id": "996a9a11",
   "metadata": {},
   "outputs": [],
   "source": [
    "sns.set_style(\"whitegrid\")\n",
    "color_map = {\n",
    "    2018: \"#ff4040\",\n",
    "    2019: \"#ff8c00\",\n",
    "    2020: \"#f1c40f\",\n",
    "    2021: \"#2ecc71\",\n",
    "}\n",
    "fig, axes = plt.subplots(2, 2, figsize=(16, 12))\n",
    "fig.suptitle(\n",
    "    \"Monthly Gross Profit Analysis by Fiscal Year\", fontsize=16, fontweight=\"bold\"\n",
    ")\n",
    "ax1 = axes[0, 0]\n",
    "for fy in gp_m[\"fiscal_year\"].unique():\n",
    "    data = gp_m[gp_m[\"fiscal_year\"] == fy]\n",
    "    ax1.plot(\n",
    "        data[\"fiscal_month\"],\n",
    "        data[\"gp\"],\n",
    "        marker=\"o\",\n",
    "        linewidth=2,\n",
    "        markersize=6,\n",
    "        label=f\"{int(fy)}\",\n",
    "        color=color_map[int(fy)],\n",
    "    )\n",
    "\n",
    "ax1.set_title(\"Monthly Gross Profit by Fiscal Year\", fontweight=\"bold\")\n",
    "ax1.set_xlabel(\"Fiscal Month\")\n",
    "ax1.set_ylabel(\"Gross Profit\")\n",
    "ax1.set_xticks(range(1, 13))\n",
    "ax1.set_xticklabels([fiscal_month_names[i] for i in range(1, 13)], rotation=45)\n",
    "ax1.legend()\n",
    "ax1.grid(True, alpha=0.3)\n",
    "\n",
    "ax2 = axes[0, 1]\n",
    "pivot_changes = gp_m.pivot(\n",
    "    index=\"fiscal_month_name\", columns=\"fiscal_year\", values=\"gp_change_pct\"\n",
    ")\n",
    "fiscal_order = [\n",
    "    \"Sep\",\n",
    "    \"Oct\",\n",
    "    \"Nov\",\n",
    "    \"Dec\",\n",
    "    \"Jan\",\n",
    "    \"Feb\",\n",
    "    \"Mar\",\n",
    "    \"Apr\",\n",
    "    \"May\",\n",
    "    \"Jun\",\n",
    "    \"Jul\",\n",
    "    \"Aug\",\n",
    "]\n",
    "pivot_changes = pivot_changes.reindex(fiscal_order)\n",
    "\n",
    "sns.heatmap(\n",
    "    pivot_changes,\n",
    "    annot=True,\n",
    "    fmt=\".1f\",\n",
    "    cmap=\"RdYlGn\",\n",
    "    center=0,\n",
    "    ax=ax2,\n",
    "    cbar_kws={\"label\": \"Change %\"},\n",
    ")\n",
    "ax2.set_title(\"Month-over-Month Gross Profit Changes (%)\", fontweight=\"bold\")\n",
    "ax2.set_xlabel(\"Fiscal Year\")\n",
    "ax2.set_ylabel(\"Fiscal Month\")\n",
    "\n",
    "ax3 = axes[1, 0]\n",
    "for fy in gp_m[\"fiscal_year\"].unique():\n",
    "    data = gp_m[gp_m[\"fiscal_year\"] == fy]\n",
    "    ax3.plot(\n",
    "        data[\"fiscal_month\"],\n",
    "        data[\"cumulative_gp\"],\n",
    "        marker=\"s\",\n",
    "        linewidth=2,\n",
    "        markersize=6,\n",
    "        label=f\"{int(fy)}\",\n",
    "        color=color_map[int(fy)],\n",
    "    )\n",
    "\n",
    "ax3.set_title(\"Cumulative Gross Profit by Fiscal Year\", fontweight=\"bold\")\n",
    "ax3.set_xlabel(\"Fiscal Month\")\n",
    "ax3.set_ylabel(\"Cumulative Gross Profit\")\n",
    "ax3.set_xticks(range(1, 13))\n",
    "ax3.set_xticklabels([fiscal_month_names[i] for i in range(1, 13)], rotation=45)\n",
    "ax3.legend()\n",
    "ax3.grid(True, alpha=0.3)\n",
    "\n",
    "ax4 = axes[1, 1]\n",
    "pivot_gp = gp_m.pivot(\n",
    "    index=\"fiscal_month_name\",\n",
    "    columns=\"fiscal_year\",\n",
    "    values=\"gp\",\n",
    ")\n",
    "pivot_gp = pivot_gp.reindex(fiscal_order)\n",
    "colors = [color_map[year] for year in pivot_gp.columns]\n",
    "pivot_gp.plot(kind=\"bar\", ax=ax4, width=0.8, color=colors)\n",
    "ax4.set_title(\"Gross Profit Comparison by Fiscal Month\", fontweight=\"bold\")\n",
    "ax4.set_xlabel(\"Fiscal Month\")\n",
    "ax4.set_ylabel(\"Gross Profit\")\n",
    "ax4.legend(title=\"Fiscal Year\")\n",
    "ax4.tick_params(axis=\"x\", rotation=45)\n",
    "\n",
    "plt.tight_layout(rect=[0, 0, 1, 0.97])\n",
    "plt.savefig(\"4.png\", dpi=300, bbox_inches=\"tight\")\n",
    "plt.show()"
   ]
  },
  {
   "cell_type": "markdown",
   "id": "7a9d37c3",
   "metadata": {},
   "source": [
    "**Key insights**\n",
    "* Profit tracks revenue but with sharper dips during weak months.\n",
    "* Seasonality is again evident, especially in in October-November across most years, likely aligned with festival seasons and hardware refresh cycles. January shows consistent decline, suggesting post-holiday market correction.\n",
    "* The heatmap reveals substantial month-over-month improvements. The April growth of 238.7% is due to the exceptional profit decline in the previous month. \n",
    "* 2021 maintains steady performance levels without the extreme volatility seen in 2020, indicating business maturation and more predictable revenue streams.\n",
    "* Insights could guide improved planning of promotions or pricing."
   ]
  },
  {
   "cell_type": "markdown",
   "id": "3e7e0d2a",
   "metadata": {},
   "source": [
    "<h4 style=\"color:#588ac0\">2.1.3 📉 Gross Margin </h4> \n",
    "<a id='gm'></a>"
   ]
  },
  {
   "cell_type": "code",
   "execution_count": null,
   "id": "194ac5de",
   "metadata": {},
   "outputs": [],
   "source": [
    "margin_y = df.groupby('fiscal_year')[['gp', 'revenue']].sum().reset_index()\n",
    "margin_y"
   ]
  },
  {
   "cell_type": "code",
   "execution_count": null,
   "id": "27d5fd74",
   "metadata": {},
   "outputs": [],
   "source": [
    "margin_y[\"margin\"] = (margin_y['gp']/margin_y['revenue']*100).round(3)\n",
    "margin_y"
   ]
  },
  {
   "cell_type": "code",
   "execution_count": null,
   "id": "6d1987e0",
   "metadata": {},
   "outputs": [],
   "source": [
    "mar = sns.barplot(x=\"fiscal_year\", y=\"margin\", data=margin_y, color=\"#2ecc71\")\n",
    "plt.title(\"Gross Margin by Fiscal Year\", fontweight=\"semibold\")\n",
    "mar.set_xlabel(\"Fiscal Year\")\n",
    "mar.set_ylabel(\"Gross Margin\")\n",
    "mar.set_ylim(0, 100)\n",
    "for index, row in margin_y.iterrows():\n",
    "    mar.text(index, row.margin +0.7, f\"{(row.margin)}%\", ha=\"center\")\n",
    "plt.tight_layout()\n",
    "plt.savefig(\"5.png\", dpi=300, bbox_inches=\"tight\")\n",
    "plt.show()"
   ]
  },
  {
   "cell_type": "markdown",
   "id": "ceef36a8",
   "metadata": {},
   "source": [
    "Despite rapid growth, gross margins remain remarkably stable around 61%, ranging from 61.031% to 61.607%. \n",
    "\n",
    "This consistency demonstrates strong pricing discipline and cost management throughout the expansion period."
   ]
  },
  {
   "cell_type": "code",
   "execution_count": null,
   "id": "263c570a",
   "metadata": {},
   "outputs": [],
   "source": [
    "margin_m = gp_m.merge(\n",
    "    revenue_m, on=[\"fiscal_year\", \"fiscal_month\", \"fiscal_month_name\"]\n",
    ")[\n",
    "    [\n",
    "        \"fiscal_year\",\n",
    "        \"fiscal_month\",\n",
    "        \"fiscal_month_name\",\n",
    "        \"gp\",\n",
    "        \"revenue\",\n",
    "        \"sold_quantity\",\n",
    "    ]\n",
    "].reset_index()\n",
    "\n",
    "margin_m = margin_m.sort_values([\"fiscal_year\", \"fiscal_month\"])\n",
    "margin_m.head()"
   ]
  },
  {
   "cell_type": "code",
   "execution_count": null,
   "id": "08872de7",
   "metadata": {},
   "outputs": [],
   "source": [
    "margin_m[\"margin\"] = (\n",
    "    margin_m[\"gp\"] / margin_m[\"revenue\"] * 100\n",
    ").round(3)\n",
    "margin_m.head()"
   ]
  },
  {
   "cell_type": "code",
   "execution_count": null,
   "id": "3da572e4",
   "metadata": {},
   "outputs": [],
   "source": [
    "margin_m[\"margin_change_pct\"] = (\n",
    "    margin_m.groupby(\"fiscal_year\")[\"margin\"].pct_change() * 100\n",
    ")\n",
    "margin_m.head()"
   ]
  },
  {
   "cell_type": "code",
   "execution_count": null,
   "id": "95f0b611",
   "metadata": {},
   "outputs": [],
   "source": [
    "sns.set_style(\"whitegrid\")\n",
    "\n",
    "color_map = {\n",
    "    2018: \"#ff4040\",\n",
    "    2019: \"#ff8c00\",\n",
    "    2020: \"#f1c40f\",\n",
    "    2021: \"#2ecc71\",\n",
    "}\n",
    "\n",
    "fig, (ax1, ax2) = plt.subplots(1, 2, figsize=(16, 6))\n",
    "fig.suptitle(\n",
    "    \"Monthly Gross Margin and Sold Quantity Analysis by Fiscal Year\",\n",
    "    fontsize=16,\n",
    "    fontweight=\"bold\",\n",
    "    y=1.05\n",
    ")\n",
    "\n",
    "for fy in margin_m[\"fiscal_year\"].unique():\n",
    "    data = margin_m[margin_m[\"fiscal_year\"] == fy]\n",
    "    ax1.plot(\n",
    "        data[\"fiscal_month\"],\n",
    "        data[\"margin\"],\n",
    "        marker=\"o\",\n",
    "        linewidth=2,\n",
    "        markersize=6,\n",
    "        label=f\"{int(fy)}\",\n",
    "        color=color_map[int(fy)],\n",
    "    )\n",
    "\n",
    "ax1.set_title(\"Monthly Gross Margin by Fiscal Year\", fontweight=\"bold\")\n",
    "ax1.set_xlabel(\"Fiscal Month\")\n",
    "ax1.set_ylabel(\"Gross Margin (%)\")\n",
    "ax1.set_xticks(range(1, 13))\n",
    "ax1.set_xticklabels([fiscal_month_names[i] for i in range(1, 13)], rotation=45)\n",
    "ax1.legend(title=\"Fiscal Year\")\n",
    "ax1.grid(True, alpha=0.3)\n",
    "\n",
    "pivot_changes = margin_m.pivot(\n",
    "    index=\"fiscal_month_name\", columns=\"fiscal_year\", values=\"margin_change_pct\"\n",
    ")\n",
    "\n",
    "fiscal_order = [\n",
    "    \"Sep\", \"Oct\", \"Nov\", \"Dec\", \"Jan\", \"Feb\",\n",
    "    \"Mar\", \"Apr\", \"May\", \"Jun\", \"Jul\", \"Aug\"\n",
    "]\n",
    "pivot_changes = pivot_changes.reindex(fiscal_order)\n",
    "\n",
    "sns.heatmap(\n",
    "    pivot_changes,\n",
    "    annot=True,\n",
    "    fmt=\".1f\",\n",
    "    cmap=\"RdYlGn\",\n",
    "    center=0,\n",
    "    ax=ax2,\n",
    "    cbar_kws={\"label\": \"Change (%)\"},\n",
    "    linewidths=0.3,\n",
    "    linecolor=\"gray\",\n",
    "    annot_kws={\"size\": 9}\n",
    ")\n",
    "ax2.set_title(\"MoM Gross Margin Change (%)\", fontweight=\"bold\")\n",
    "ax2.set_xlabel(\"Fiscal Year\")\n",
    "ax2.set_ylabel(\"Fiscal Month\")\n",
    "\n",
    "plt.tight_layout(rect=[0, 0, 1, 0.95])\n",
    "plt.savefig(\"6.png\", dpi=300, bbox_inches=\"tight\")\n",
    "plt.show()"
   ]
  },
  {
   "cell_type": "markdown",
   "id": "58b0e8f6",
   "metadata": {},
   "source": [
    "**Key insights**\n",
    "* Margins are relatively stable across months, except for slight dips in high-sales periods. This indicates possible discounting or volume-driven promotions during peaks.\n",
    "* The February peaks in 2018-2019 possibly indicate a decision to rise profits during typically slower sales periods. This could have driven to lower revenue, so in later years we don't see that high volatility.\n",
    "* 2020-2021 show reduced margin volatility compared to previous years, indicating improved operational efficiency and pricing strategies. The margin range narrowed from 1.1% (2018-2019) to approximately 0.4% (2020-2021).\n",
    "* Overall, margin management across months appears effective. No critical volatility — positive sign for cost control.\n"
   ]
  },
  {
   "cell_type": "markdown",
   "id": "6228fb22",
   "metadata": {},
   "source": [
    "<h4 style=\"color:#588ac0; margin-top:20px\">2.1.4 📈 CAGR – Compound Annual Growth Rate </h3>\n",
    "<a id='cagr'></a>\n"
   ]
  },
  {
   "cell_type": "code",
   "execution_count": null,
   "id": "94083739",
   "metadata": {},
   "outputs": [],
   "source": [
    "def calculate_cagr(start, end, periods):\n",
    "    return ((end / start) ** (1 / periods)) - 1\n",
    "\n",
    "start_value = df[df[\"fiscal_year\"] == 2018][\"revenue\"].sum()\n",
    "end_value = df[df[\"fiscal_year\"] == 2021][\"revenue\"].sum()\n",
    "cagr = calculate_cagr(start_value, end_value, periods=3)\n",
    "print(f\"CAGR: {cagr:.2%}\")"
   ]
  },
  {
   "cell_type": "markdown",
   "id": "70bee033",
   "metadata": {},
   "source": [
    "AtliQ Hardware achieved an extraordinary compound annual growth rate of 103.32% from 2018-2021, effectively doubling revenue each year during this period. This exceptional growth rate indicates the company successfully scaled from startup phase to established market player, likely driven by strong demand in the computer hardware sector and effective partnerships with major retail channels."
   ]
  },
  {
   "cell_type": "markdown",
   "id": "ce3817d9",
   "metadata": {},
   "source": [
    "<h4 style=\"color:#588ac0\">📝 Conclusions</h4> \n",
    "<a id='time_conclusions'></a>\n",
    "AtliQ Hardware exhibits remarkable financial performance with consistent high-growth trajectory while maintaining stable profitability margins. The business shows strong seasonal patterns that can be leveraged for inventory planning and marketing strategies. The company has successfully scaled operations without sacrificing profit margins, indicating effective cost management and pricing strategies. The maturation from high volatility growth in 2020 to more stable, predictable performance in 2021 suggests the company is transitioning from startup-phase rapid expansion to sustainable business operations."
   ]
  },
  {
   "cell_type": "markdown",
   "id": "7c029b29",
   "metadata": {},
   "source": [
    "<h3 style=\"color:#eb6123; margin-top:30px;\">2.2 🏷️ Category-Based Metrics</h3>\n",
    "<a id='Category'></a>"
   ]
  },
  {
   "cell_type": "code",
   "execution_count": null,
   "id": "9f2fa721",
   "metadata": {},
   "outputs": [],
   "source": [
    "cat = df.groupby('category')[['gp', 'revenue']].sum().reset_index()\n",
    "cat"
   ]
  },
  {
   "cell_type": "markdown",
   "id": "7167205a",
   "metadata": {},
   "source": [
    "<h4 style=\"color:#eb6123\"> 2.2.1 📈 Revenue </h4> \n",
    "<a id='cat_rev'></a>"
   ]
  },
  {
   "cell_type": "code",
   "execution_count": null,
   "id": "dcd9747f",
   "metadata": {},
   "outputs": [],
   "source": [
    "rev_cat = sns.barplot(x=\"category\", y=\"revenue\", data=cat, color=\"#2ecc71\")\n",
    "plt.title(\"Total Revenue by Category\", fontweight=\"semibold\")\n",
    "rev_cat.yaxis.set_major_formatter(ticker.FuncFormatter(lambda x, _: f\"{int(x/1e6)}M\"))\n",
    "rev_cat.set_xlabel(\"Category\")\n",
    "rev_cat.set_ylabel(\"Revenue (in millions)\")\n",
    "for index, row in cat.iterrows():\n",
    "    rev_cat.text(index, row.revenue + 300000, f\"{int(row.revenue)}$\", ha=\"center\")\n",
    "plt.tight_layout()\n",
    "plt.savefig(\"7.png\", dpi=300, bbox_inches=\"tight\")\n",
    "plt.show()"
   ]
  },
  {
   "cell_type": "markdown",
   "id": "26fe5eaf",
   "metadata": {},
   "source": [
    "Internal HDD represents AtliQ's primary revenue driver, generating $30.59M compared to Graphic Cards at $5.75M. \n",
    "\n",
    "This creates an 84:16 revenue split, indicating heavy dependence on storage solutions business."
   ]
  },
  {
   "cell_type": "markdown",
   "id": "7b6654f4",
   "metadata": {},
   "source": [
    "<h4 style=\"color:#eb6123\"> 2.2.2💰 Gross Profit </h4> \n",
    "<a id='cat_gp'></a>"
   ]
  },
  {
   "cell_type": "code",
   "execution_count": null,
   "id": "9bc02298",
   "metadata": {},
   "outputs": [],
   "source": [
    "gp_cat = sns.barplot(x=\"category\", y=\"gp\", data=cat, color=\"#2ecc71\")\n",
    "plt.title(\"Total Gross Profit by Category\", fontweight=\"semibold\")\n",
    "gp_cat.yaxis.set_major_formatter(ticker.FuncFormatter(lambda x, _: f\"{int(x/1e6)}M\"))\n",
    "gp_cat.set_xlabel(\"Category\")\n",
    "gp_cat.set_ylabel(\"Gross Profit (in millions)\")\n",
    "for index, row in cat.iterrows():\n",
    "    gp_cat.text(index, row.gp + 300000, f\"{int(row.gp)}$\", ha=\"center\")\n",
    "plt.tight_layout()\n",
    "plt.savefig(\"8.png\", dpi=300, bbox_inches=\"tight\")\n",
    "plt.show()"
   ]
  },
  {
   "cell_type": "markdown",
   "id": "299b8d7d",
   "metadata": {},
   "source": [
    "Internal HDD delivers $18.72M in gross profit versus $3.51M from Graphic Cards, maintaining the same proportional relationship as revenue. \n",
    "\n",
    "This consistency indicates similar operational efficiency across both product lines."
   ]
  },
  {
   "cell_type": "markdown",
   "id": "dd738886",
   "metadata": {},
   "source": [
    "<h4 style=\"color:#eb6123\">2.2.3 📉 Gross Margin</h4> \n",
    "<a id='cat_gm'></a>"
   ]
  },
  {
   "cell_type": "code",
   "execution_count": null,
   "id": "9d1adc58",
   "metadata": {},
   "outputs": [],
   "source": [
    "cat['margin'] = (cat['gp']/cat['revenue']*100).round(3)"
   ]
  },
  {
   "cell_type": "code",
   "execution_count": null,
   "id": "2f765d7b",
   "metadata": {},
   "outputs": [],
   "source": [
    "margin_cat = sns.barplot(x=\"category\", y=\"margin\", data=cat, color=\"#2ecc71\")\n",
    "plt.title(\"Total Margin Profit by Category\", fontweight=\"semibold\")\n",
    "margin_cat.set_xlabel(\"Category\")\n",
    "margin_cat.set_ylabel(\"Gross Margin %\")\n",
    "margin_cat.set_ylim(0, 100)\n",
    "for index, row in cat.iterrows():\n",
    "    margin_cat.text(index, row.margin+1, f\"{row.margin}%\", ha=\"center\")\n",
    "\n",
    "plt.tight_layout()\n",
    "plt.savefig(\"9.png\", dpi=300, bbox_inches=\"tight\")\n",
    "plt.show()"
   ]
  },
  {
   "cell_type": "markdown",
   "id": "21890bd7",
   "metadata": {},
   "source": [
    " Both categories demonstrate nearly identical gross margins - Graphic Cards at 61.058% and Internal HDD at 61.179%.\n",
    " \n",
    " This 0.12% difference indicates consistent pricing strategies and cost structures across product lines."
   ]
  },
  {
   "cell_type": "markdown",
   "id": "e113afcd",
   "metadata": {},
   "source": [
    "<h4 style=\"color:#eb6123\">2.2.4 📝 Conclusions</h4> \n",
    "<a id='cat_conclusions'></a>\n",
    "AtliQ Hardware operates a highly concentrated business model with Internal HDD driving 84% of revenue and profit. While this concentration presents risks from market volatility or technological disruption in storage solutions, it also demonstrates AtliQ's competitive strength and market leadership in this segment. The identical gross margins across categories indicate strong operational discipline and suggests the company could potentially scale the Graphic Card business with similar profitability if market opportunities arise. The current portfolio structure provides a stable foundation while the smaller Graphic Card segment offers diversification potential for future growth."
   ]
  },
  {
   "cell_type": "markdown",
   "id": "2810af2d",
   "metadata": {},
   "source": [
    "<h3 style=\"color:#229756; margin-top:30px;\"> 2.3 🌍 Markets</h3>\n",
    "<a id='market'></a>"
   ]
  },
  {
   "cell_type": "code",
   "execution_count": null,
   "id": "a653d6e1",
   "metadata": {},
   "outputs": [],
   "source": [
    "market_metrics = df.groupby(\"market\")[[\"gp\", \"revenue\", 'sold_quantity']].sum().reset_index()\n",
    "market_metrics"
   ]
  },
  {
   "cell_type": "markdown",
   "id": "e7bf74c0",
   "metadata": {},
   "source": [
    "<h4 style=\"color:#229756\"> 2.3.1 📈 Revenue </h4> \n",
    "<a id='market_rev'></a>"
   ]
  },
  {
   "cell_type": "code",
   "execution_count": null,
   "id": "88483f78",
   "metadata": {},
   "outputs": [],
   "source": [
    "market_rev_sorted = market_metrics.sort_values(by=\"revenue\", ascending=False)\n",
    "plt.figure(figsize=(12, 8))\n",
    "sns.barplot(\n",
    "    data=market_rev_sorted,\n",
    "    x=\"revenue\",\n",
    "    y=\"market\",\n",
    "    color=\"#2ecc71\",\n",
    ")\n",
    "plt.title(\"Revenue by Market (in millions)\", fontsize=14, fontweight=\"bold\")\n",
    "plt.xlabel(\"Revenue\")\n",
    "plt.ylabel(\"Market\")\n",
    "for index, value in enumerate(market_rev_sorted[\"revenue\"]):\n",
    "    plt.text(value + 1e5, index, f\"{value/1e6:.1f}M\", va=\"center\")\n",
    "formatter = FuncFormatter(lambda x, _: f\"{x/1e6:.0f}M\")\n",
    "plt.gca().xaxis.set_major_formatter(formatter)\n",
    "plt.grid(axis=\"x\", alpha=0.3)\n",
    "plt.tight_layout()\n",
    "plt.savefig(\"10.png\", dpi=300, bbox_inches=\"tight\")\n",
    "plt.show()"
   ]
  },
  {
   "cell_type": "markdown",
   "id": "22001d2a",
   "metadata": {},
   "source": [
    "* India dominates with 10.4M revenue - nearly 2x larger than USA\n",
    "* USA holds second position at 6.0M\n",
    "* South Korea ranks third at 3.4M\n",
    "* eavy concentration: Top 3 markets generate ~55% of total revenue\n",
    "* Long tail of smaller markets (many under 1M)"
   ]
  },
  {
   "cell_type": "code",
   "execution_count": null,
   "id": "5df9b836",
   "metadata": {},
   "outputs": [],
   "source": [
    "market_metrics[\"market_share_pct\"] = (\n",
    "    market_metrics[\"revenue\"] / market_metrics[\"revenue\"].sum()\n",
    ") * 100\n",
    "\n",
    "market_sorted = market_metrics.sort_values(\"market_share_pct\", ascending=True)\n",
    "\n",
    "fig, ax = plt.subplots(figsize=(10, 8)) \n",
    "bars = ax.barh(\n",
    "    range(len(market_sorted)),\n",
    "    market_sorted[\"market_share_pct\"],\n",
    "    color=\"#2ecc71\",\n",
    "    linewidth=0.5,\n",
    ")\n",
    "\n",
    "for i, (idx, row) in enumerate(market_sorted.iterrows()):\n",
    "    ax.text(\n",
    "        row[\"market_share_pct\"] + 0.5,\n",
    "        i,\n",
    "        f\"{row['market_share_pct']:.1f}%\",\n",
    "        va=\"center\",\n",
    "        fontsize=9,\n",
    "    )\n",
    "\n",
    "ax.set_yticks(range(len(market_sorted)))\n",
    "ax.set_yticklabels(market_sorted[\"market\"], fontsize=10)\n",
    "ax.set_xlabel(\"Market Share %\", fontsize=12)\n",
    "ax.set_title(\"Market Share by Revenue\", fontsize=14, fontweight=\"bold\")\n",
    "ax.grid(alpha=0.3, axis=\"x\")\n",
    "ax.set_xlim(0, market_sorted[\"market_share_pct\"].max() * 1.15)\n",
    "\n",
    "plt.tight_layout()\n",
    "plt.savefig(\"12.png\", dpi=300, bbox_inches=\"tight\")\n",
    "plt.show()"
   ]
  },
  {
   "cell_type": "markdown",
   "id": "6d11e970",
   "metadata": {},
   "source": [
    "* India commands 28.7% market share\n",
    "* USA holds 16.5%\n",
    "* Top 3 markets (India, USA, South Korea) control 54.6% of total market\n",
    "* High fragmentation: 20+ markets with <2% share each"
   ]
  },
  {
   "cell_type": "markdown",
   "id": "c4bc4810",
   "metadata": {},
   "source": [
    "<h4 style=\"color:#229756\"> 2.3.2💰 Gross Profit </h4> \n",
    "<a id='market_gp'></a>"
   ]
  },
  {
   "cell_type": "code",
   "execution_count": null,
   "id": "f1e56bf1",
   "metadata": {},
   "outputs": [],
   "source": [
    "market_gp_sorted = market_metrics.sort_values(by=\"gp\", ascending=False)\n",
    "plt.figure(figsize=(10, 8))\n",
    "sns.barplot(\n",
    "    data=market_gp_sorted,\n",
    "    x=\"gp\",\n",
    "    y=\"market\",\n",
    "    color=\"#2ecc71\",\n",
    ")\n",
    "plt.title(\"Gross Profit by Market (in millions)\", fontsize=14, fontweight=\"bold\")\n",
    "plt.xlabel(\"Gross Profit\")\n",
    "plt.ylabel(\"Market\")\n",
    "for index, value in enumerate(market_gp_sorted[\"gp\"]):\n",
    "    plt.text(value + 30000, index, f\"{value/1e6:.1f}M\", va=\"center\")\n",
    "formatter = FuncFormatter(lambda x, _: f\"{x/1e6:.0f}M\")\n",
    "plt.gca().xaxis.set_major_formatter(formatter)\n",
    "plt.grid(axis=\"x\", alpha=0.3)\n",
    "plt.tight_layout()\n",
    "plt.savefig(\"13.png\", dpi=300, bbox_inches=\"tight\")\n",
    "plt.show()"
   ]
  },
  {
   "cell_type": "markdown",
   "id": "e98a0b1e",
   "metadata": {},
   "source": [
    "* India leads gross profit at 6.4M\n",
    "* USA second at 3.7M\n",
    "* South Korea third at 2.1M\n",
    "* Profit distribution mirrors revenue structure, confirming margin consistency\n",
    "* Clear tier structure: premium markets vs. developing markets"
   ]
  },
  {
   "cell_type": "markdown",
   "id": "d3ec4494",
   "metadata": {},
   "source": [
    "<h4 style=\"color:#229756\">2.3.3 📉 Gross Margin</h4> \n",
    "<a id='market_gm'></a>"
   ]
  },
  {
   "cell_type": "code",
   "execution_count": null,
   "id": "da3f0490",
   "metadata": {},
   "outputs": [],
   "source": [
    "market_metrics[\"margin\"] = (\n",
    "    market_metrics[\"gp\"] / market_metrics[\"revenue\"] * 100\n",
    ").round(3)\n",
    "\n",
    "market_metrics.head()"
   ]
  },
  {
   "cell_type": "code",
   "execution_count": null,
   "id": "70fed72b",
   "metadata": {},
   "outputs": [],
   "source": [
    "market_mar_sorted = market_metrics.sort_values(by=\"margin\", ascending=False)\n",
    "plt.figure(figsize=(10, 8))\n",
    "sns.barplot(\n",
    "    x=\"margin\", y=\"market\", data=market_mar_sorted, color=\"#2ecc71\"\n",
    ")\n",
    "plt.title(\"Gross Margin by Market\", fontweight=\"semibold\")\n",
    "plt.xlabel(\"Market\")\n",
    "plt.ylabel(\"Gross Margin\")\n",
    "plt.xlim(0, 100)\n",
    "\n",
    "plt.tight_layout()\n",
    "plt.savefig(\"14.png\", dpi=300, bbox_inches=\"tight\")\n",
    "plt.show()"
   ]
  },
  {
   "cell_type": "markdown",
   "id": "077dcd37",
   "metadata": {},
   "source": [
    "* Gross margins are remarkably consistent across markets (~60-65%)\n",
    "* Indonesia leads with the highest gross margin\n",
    "* Mexico shows the lowest margin among displayed markets\n",
    "* Narrow margin spread of only 5-7 percentage points between best and worst performers\n",
    "* Indicates strong pricing discipline and cost management across regions"
   ]
  },
  {
   "cell_type": "markdown",
   "id": "9fb7d09f",
   "metadata": {},
   "source": [
    "<h4 style=\"color:#229756\">2.3.4 📈 Market-level profitability matrix</h4> \n",
    "<a id='market_matrix'></a>"
   ]
  },
  {
   "cell_type": "code",
   "execution_count": null,
   "id": "f0c4cc4a",
   "metadata": {},
   "outputs": [],
   "source": [
    "market_metrics[\"avg_gross_margin\"] = (market_metrics[\"gp\"] / market_metrics[\"revenue\"]) * 100\n",
    "\n",
    "median_volume = market_metrics[\"sold_quantity\"].median()\n",
    "median_margin = market_metrics[\"avg_gross_margin\"].median()\n",
    "\n",
    "def categorize_market(row):\n",
    "    volume = row[\"sold_quantity\"]\n",
    "    margin = row[\"avg_gross_margin\"]\n",
    "\n",
    "    if volume >= median_volume and margin >= median_margin:\n",
    "        return \"High Margin, High Volume\"\n",
    "    elif volume >= median_volume and margin < median_margin:\n",
    "        return \"Low Margin, High Volume\"\n",
    "    elif volume < median_volume and margin >= median_margin:\n",
    "        return \"High Margin, Low Volume\"\n",
    "    else:\n",
    "        return \"Low Margin, Low Volume\"\n",
    "\n",
    "market_metrics[\"quadrant\"] = market_metrics.apply(categorize_market, axis=1)\n",
    "\n",
    "colors = {\n",
    "    \"Low Margin, High Volume\": \"gold\",\n",
    "    \"High Margin, High Volume\": \"green\",\n",
    "    \"High Margin, Low Volume\": \"blue\",\n",
    "    \"Low Margin, Low Volume\": \"red\",\n",
    "}\n",
    "\n",
    "markers = {\n",
    "    \"Low Margin, High Volume\": \"o\",\n",
    "    \"High Margin, High Volume\": \"X\",\n",
    "    \"High Margin, Low Volume\": \"s\",\n",
    "    \"Low Margin, Low Volume\": \"P\",\n",
    "}\n",
    "\n",
    "plt.figure(figsize=(14, 10))\n",
    "\n",
    "for category in colors.keys():\n",
    "    data = market_metrics[market_metrics[\"quadrant\"] == category]\n",
    "    plt.scatter(\n",
    "        data[\"sold_quantity\"],\n",
    "        data[\"avg_gross_margin\"],\n",
    "        c=colors[category],\n",
    "        marker=markers[category],\n",
    "        s=100,\n",
    "        label=category,\n",
    "        alpha=0.7,\n",
    "        edgecolors=\"black\",\n",
    "        linewidth=0.5,\n",
    "    )\n",
    "\n",
    "    for idx, row in data.iterrows():\n",
    "        plt.annotate(\n",
    "            row[\"market\"],\n",
    "            (row[\"sold_quantity\"], row[\"avg_gross_margin\"]),\n",
    "            xytext=(5, 5),\n",
    "            textcoords=\"offset points\",\n",
    "            fontsize=9,\n",
    "            alpha=0.8,\n",
    "        )\n",
    "\n",
    "plt.axvline(x=median_volume, color=\"gray\", linestyle=\"--\", alpha=0.7)\n",
    "plt.axhline(y=median_margin, color=\"gray\", linestyle=\"--\", alpha=0.7)\n",
    "\n",
    "plt.xlabel(\"Total Volume Sold\", fontsize=12)\n",
    "plt.ylabel(\"Average Gross Margin\", fontsize=12)\n",
    "plt.title(\"Market-Level Profitability Matrix\", fontsize=16, fontweight=\"bold\")\n",
    "\n",
    "plt.legend(bbox_to_anchor=(1.05, 1), loc=\"upper left\")\n",
    "\n",
    "plt.gca().yaxis.set_major_formatter(plt.FuncFormatter(lambda y, _: f\"{y:.1f}%\"))\n",
    "\n",
    "plt.gca().xaxis.set_major_formatter(plt.FuncFormatter(lambda x, _: f\"{x:,.0f}\"))\n",
    "\n",
    "plt.grid(True, alpha=0.3)\n",
    "plt.tight_layout()\n",
    "plt.savefig(\"15.png\", dpi=300, bbox_inches=\"tight\")\n",
    "plt.show()\n",
    "\n",
    "print(\"\\n\" + \"=\" * 50)\n",
    "print(\"Top-5 Revenue Markets:\")\n",
    "print(\n",
    "    market_metrics.nlargest(5, \"sold_quantity\")[\n",
    "        [\"market\", \"sold_quantity\", \"avg_gross_margin\"]\n",
    "    ]\n",
    ")\n",
    "\n",
    "print(\"\\nTop-5 Gross Margin Markets:\")\n",
    "print(\n",
    "    market_metrics.nlargest(5, \"avg_gross_margin\")[\n",
    "        [\"market\", \"avg_gross_margin\", \"sold_quantity\"]\n",
    "    ]\n",
    ")"
   ]
  },
  {
   "cell_type": "markdown",
   "id": "2997ece3",
   "metadata": {},
   "source": [
    "*This analysis reveals a well-structured but India-dependent portfolio with clear strategic priorities for each market segment.*\n",
    "\n",
    "* **High Margin, High Volume (Green X) - Premium Markets:**\n",
    "\n",
    "Indonesia, Australia, Norway, France, Italy, Germany, Philippines, South Korea, USA\n",
    "Best performers: Ideal combination of efficiency and scale\n",
    "\n",
    "\n",
    "* **Low Margin, High Volume (Yellow O) - Volume Markets:**\n",
    "\n",
    "India, Canada, United Kingdom\n",
    "India is critical: Massive volume compensates for lower margins\n",
    "\n",
    "\n",
    "* **High Margin, Low Volume (Blue Square) - Niche Markets:**\n",
    "\n",
    "Bangladesh, Chile, New Zealand, Sweden, Pakistan\n",
    "Development opportunity: Potential to scale up volume\n",
    "\n",
    "\n",
    "* **Low Margin, Low Volume (Red Cross) - Challenge Markets:**\n",
    "\n",
    "Mexico, Austria, Japan, Spain, Portugal, Colombia, Netherlands, Brazil\n",
    "Requires attention: Either improve margins or increase volume\n",
    "\n",
    "\n",
    "**Portfolio Optimization:**\n",
    "\n",
    "* Protect premium markets (Green X): Maintain competitive advantage\n",
    "* Scale volume markets (Yellow O): Focus on operational efficiency, especially India\n",
    "* Develop niche markets (Blue Square): Investment in market development\n",
    "* Fix or exit challenge markets (Red Cross): Strategic review needed\n",
    "\n",
    "**Operational Priorities:**\n",
    "\n",
    "* India strategy: Despite lower margins, massive volume makes it irreplaceable\n",
    "* Premium market defense: Protect high-margin, high-volume markets from competition\n",
    "* Margin improvement: Focus on red cross markets - either improve efficiency or consider market exit\n",
    "* Volume expansion: Blue square markets show margin potential - invest in growth\n",
    "\n",
    "**Risk Assessment:**\n",
    "\n",
    "* Heavy dependence on India creates portfolio risk despite profitability\n",
    "* Premium markets cluster suggests competitive positioning strength\n",
    "* Challenge markets may be dragging overall performance"
   ]
  },
  {
   "cell_type": "code",
   "execution_count": null,
   "id": "45c55a1b",
   "metadata": {},
   "outputs": [],
   "source": [
    "fig, ax = plt.subplots(figsize=(16, 8))\n",
    "sizes = market_metrics[\"market_share_pct\"] * 20\n",
    "colors = market_metrics[\"sold_quantity\"]\n",
    "\n",
    "scatter = ax.scatter(\n",
    "    market_metrics[\"avg_gross_margin\"],\n",
    "    market_metrics[\"gp\"],\n",
    "    s=sizes,\n",
    "    c=colors,\n",
    "    cmap=\"RdYlGn\", \n",
    "    alpha=0.7,\n",
    "    edgecolors=\"black\",\n",
    "    linewidth=0.5,\n",
    ")\n",
    "\n",
    "for idx, row in market_metrics.iterrows():\n",
    "    ax.annotate(\n",
    "        row[\"market\"],\n",
    "        (row[\"avg_gross_margin\"], row[\"gp\"]),\n",
    "        xytext=(13, 0),\n",
    "        textcoords=\"offset points\",\n",
    "        fontsize=9,\n",
    "        alpha=0.8,\n",
    "    )\n",
    "\n",
    "ax.set_xlabel(\"Margin %\", fontsize=12)\n",
    "ax.set_ylabel(\"Profit\", fontsize=12)\n",
    "ax.set_title(\n",
    "    \"Profit vs Margin (size = market share, color = quantity)\",\n",
    "    fontsize=14,\n",
    "    fontweight=\"bold\",\n",
    ")\n",
    "ax.grid(alpha=0.3)\n",
    "ax.yaxis.set_major_formatter(plt.FuncFormatter(lambda y, _: f\"{y:,.0f}\"))\n",
    "cbar1 = plt.colorbar(scatter, ax=ax)\n",
    "cbar1.set_label(\"Total Quantity\", rotation=270, labelpad=20)\n",
    "\n",
    "plt.tight_layout()\n",
    "plt.savefig(\"16.png\", dpi=300, bbox_inches=\"tight\")\n",
    "plt.show()"
   ]
  },
  {
   "cell_type": "markdown",
   "id": "049f60b0",
   "metadata": {},
   "source": [
    "* India: Massive outlier with highest profit (6.4M), moderate margin (~61%), largest market share, and highest quantity (darkest green)\n",
    "* USA: Strong profit (3.7M) with similar margin to India, large bubble indicating significant market share\n",
    "* South Korea: Good profit (2.1M) with moderate margin (~61%), medium-sized market presence"
   ]
  },
  {
   "cell_type": "markdown",
   "id": "cf74c4d7",
   "metadata": {},
   "source": [
    "<h4 style=\"color:#229756\">2.3.5 Annual revenue by market</h4> \n",
    "<a id='annual_rev'></a>"
   ]
  },
  {
   "cell_type": "code",
   "execution_count": null,
   "id": "17d14c67",
   "metadata": {},
   "outputs": [],
   "source": [
    "market_annual = df.groupby([\"market\",'fiscal_year'])[[\"gp\", \"revenue\"]].sum().reset_index()\n",
    "market_annual.head()"
   ]
  },
  {
   "cell_type": "code",
   "execution_count": null,
   "id": "6122e0ed",
   "metadata": {},
   "outputs": [],
   "source": [
    "market_annual['revenue'].describe()"
   ]
  },
  {
   "cell_type": "code",
   "execution_count": null,
   "id": "9b97c8b4",
   "metadata": {},
   "outputs": [],
   "source": [
    "pivot = market_annual.pivot_table(\n",
    "        values=\"revenue\", index=\"market\", columns=\"fiscal_year\", fill_value=0\n",
    "    )\n",
    "\n",
    "pivot = pivot.loc[pivot.sum(axis=1).sort_values(ascending=True).index]\n",
    "colors = [color_map.get(year, \"#cccccc\") for year in pivot.columns]\n",
    "ax = pivot.plot(kind=\"barh\", figsize=(16, 14), width=0.8, color=colors, alpha=0.8)\n",
    "\n",
    "plt.title(\"Revenue by Market and Year\", fontsize=14, fontweight=\"bold\")\n",
    "plt.xlabel(\"Revenue (millions)\", fontsize=12, fontweight=\"bold\")\n",
    "plt.ylabel(\"Market\", fontsize=12, fontweight=\"bold\")\n",
    "plt.legend(title=\"Fiscal Year\", bbox_to_anchor=(1.05, 1))\n",
    "plt.grid(axis=\"x\", alpha=0.3)\n",
    "plt.tight_layout()\n",
    "plt.savefig(\"17.png\", dpi=300, bbox_inches=\"tight\")\n",
    "plt.show()"
   ]
  },
  {
   "cell_type": "markdown",
   "id": "5253a610",
   "metadata": {},
   "source": [
    "The chart demonstrates strong portfolio diversification with clear market leaders driving overall growth while emerging markets contribute incremental expansion.\n",
    "* **Market leaders:** India and USA dominate with revenues exceeding 3-5 million by 2021\n",
    "* **Growth trajectories:** Most markets show consistent year-over-year expansion\n",
    "* **Market maturity levels:** Clear distinction between established markets (USA, India, South Korea) and emerging ones (Colombia, Chile, Austria)\n",
    "* **Revenue concentration:** Top 5 markets account for majority of total revenue"
   ]
  },
  {
   "cell_type": "code",
   "execution_count": null,
   "id": "9b64145d",
   "metadata": {},
   "outputs": [],
   "source": [
    "pivot_rev = market_annual.pivot(index=\"market\", columns=\"fiscal_year\", values=\"revenue\")\n",
    "\n",
    "plt.figure(figsize=(10, 8))\n",
    "sns.heatmap(\n",
    "    pivot_rev, annot=True, fmt=\".0f\", cmap=\"YlGn\", linewidths=0.3, linecolor=\"gray\"\n",
    ")\n",
    "plt.title(\"Revenue by Market and Fiscal Year\", fontsize=14, fontweight=\"bold\")\n",
    "plt.xlabel(\"Fiscal Year\")\n",
    "plt.ylabel(\"Market\")\n",
    "plt.tight_layout()\n",
    "plt.savefig(\"18.png\", dpi=300, bbox_inches=\"tight\")\n",
    "plt.show()"
   ]
  },
  {
   "cell_type": "markdown",
   "id": "48116a5f",
   "metadata": {},
   "source": [
    "Clear visualization of market prioritization with established markets generating substantial revenues while newer markets are in development phases.\n",
    "* **Revenue concentration:** India (5.1M) and USA (3.1M) represent the darkest cells, indicating highest absolute revenues in 2021\n",
    "* **Growth patterns:** Progressive color intensification from 2018 to 2021 across most markets\n",
    "* **Market gaps:** Several countries show no revenue in earlier years, indicating market entry timing\n",
    "* **Scale differences:** Significant revenue disparities between mature and developing markets"
   ]
  },
  {
   "cell_type": "code",
   "execution_count": null,
   "id": "3475f6ce",
   "metadata": {},
   "outputs": [],
   "source": [
    "pivot_rev_safe = pivot_rev.replace(0, 1e-10)\n",
    "pivot_change = pivot_rev_safe.pct_change(axis=1, fill_method=None) * 100\n",
    "pivot_change = pivot_change.iloc[:, 1:]\n",
    "pivot_change = pivot_change.clip(lower=-100, upper=1000)\n",
    "\n",
    "mask = pivot_change.isna() | np.isinf(pivot_change)\n",
    "plt.figure(figsize=(12, 8))\n",
    "sns.heatmap(\n",
    "    data=pivot_change,\n",
    "    annot=True,\n",
    "    fmt=\".1f\",\n",
    "    cmap=\"RdYlGn\",\n",
    "    center=0,\n",
    "    mask=mask,\n",
    "    linewidths=0.3,\n",
    "    linecolor=\"gray\",\n",
    "    cbar_kws={\"label\": \"YoY Change (%)\", \"format\": \"%.0f%%\"},\n",
    "    vmin=-100,\n",
    "    vmax=100\n",
    ")\n",
    "\n",
    "plt.title(\"YoY Revenue Change by Market (%)\", fontsize=14, fontweight=\"bold\")\n",
    "plt.xlabel(\"Fiscal Year\")\n",
    "plt.ylabel(\"Market\")\n",
    "plt.tight_layout()\n",
    "plt.savefig(\"19.png\", dpi=300, bbox_inches=\"tight\")\n",
    "plt.show()"
   ]
  },
  {
   "cell_type": "markdown",
   "id": "78d14ecd",
   "metadata": {},
   "source": [
    "* India, France, and Canada show strong consistent YoY growth.\n",
    "* Markets like Mexico, Pakistan, and Chile are declining or stagnant.\n",
    "\n",
    "This suggests where to invest or reduce effort. Growth is concentrated — diversification remains a risk."
   ]
  },
  {
   "cell_type": "markdown",
   "id": "ffec52d8",
   "metadata": {},
   "source": [
    "<h4 style=\"color:#229756\">📝 Conclusions</h4> \n",
    "<a id='market_conclusions'></a>\n",
    "\n",
    "**Strategic Priorities:**\n",
    "\n",
    "* India - Core market requiring maximum investment and attention\n",
    "* USA & South Korea - Critical secondary markets for stability\n",
    "* Asia-Pacific dominance - Regional strength in key growth markets\n",
    "\n",
    "**Operational Insights:**\n",
    "\n",
    "* Consistent margins indicate effective global pricing strategy\n",
    "* Revenue concentration creates dependency risk on top markets\n",
    "* Opportunity exists in developing smaller markets with proven margin potential\n",
    "* Geographic diversification provides risk mitigation"
   ]
  },
  {
   "cell_type": "markdown",
   "id": "7c212c37",
   "metadata": {},
   "source": [
    "<h3 style=\"color:#8199cf; margin-top:20px\">2.4 🌊 Waterfall Analysis </h3>\n",
    "<a id='wf'></a>"
   ]
  },
  {
   "cell_type": "code",
   "execution_count": null,
   "id": "d96db79f",
   "metadata": {},
   "outputs": [],
   "source": [
    "years = sorted(df[\"fiscal_year\"].unique())\n",
    "\n",
    "waterfalls = []\n",
    "\n",
    "for i in range(len(years) - 1):\n",
    "    y0 = years[i]\n",
    "    y1 = years[i + 1]\n",
    "\n",
    "    df0 = df[df[\"fiscal_year\"] == y0]\n",
    "    df1 = df[df[\"fiscal_year\"] == y1]\n",
    "\n",
    "    p0 = df0[\"gross_price\"].mean()\n",
    "    p1 = df1[\"gross_price\"].mean()\n",
    "    c0 = df0[\"manufacturing_cost\"].mean()\n",
    "    c1 = df1[\"manufacturing_cost\"].mean()\n",
    "    d0 = df0[\"pre_invoice_discount_pct\"].fillna(0).mean()\n",
    "    d1 = df1[\"pre_invoice_discount_pct\"].fillna(0).mean()\n",
    "    q0 = df0[\"sold_quantity\"].sum()\n",
    "    q1 = df1[\"sold_quantity\"].sum()\n",
    "\n",
    "    revenue0 = (1 - d0) * p0 * q0\n",
    "    cost0 = c0 * q0\n",
    "    gp0 = revenue0 - cost0\n",
    "\n",
    "    revenue1 = (1 - d1) * p1 * q1\n",
    "    cost1 = c1 * q1\n",
    "    gp1 = revenue1 - cost1\n",
    "\n",
    "    delta_gp = gp1 - gp0\n",
    "\n",
    "    price_effect = (p1 - p0) * q0 * (1 - d0)\n",
    "    cost_effect = (c0 - c1) * q0\n",
    "    discount_effect = (d0 - d1) * p0 * q0  \n",
    "    volume_effect = (q1 - q0) * ((1 - d0) * p0 - c0)\n",
    "    residual = delta_gp - (price_effect + cost_effect + discount_effect + volume_effect)\n",
    "\n",
    "    fig = go.Figure(\n",
    "        go.Waterfall(\n",
    "            name=\"Gross Profit YoY\",\n",
    "            orientation=\"v\",\n",
    "            measure=[\n",
    "                \"absolute\",\n",
    "                \"relative\",\n",
    "                \"relative\",\n",
    "                \"relative\",\n",
    "                \"relative\",\n",
    "                \"total\",\n",
    "            ],\n",
    "            x=[f\"GP {y0}\", \"Price\", \"Cost\", \"Discount\", \"Volume\", f\"GP {y1}\"],\n",
    "            textposition=\"outside\",\n",
    "            y=[gp0, price_effect, cost_effect, discount_effect, volume_effect, gp1],\n",
    "            connector={\"line\": {\"color\": \"gray\"}},\n",
    "        )\n",
    "    )\n",
    "\n",
    "    fig.update_layout(\n",
    "        title=f\"💰 Gross Profit Waterfall: {y0} → {y1}\",\n",
    "        yaxis_title=\"Gross Profit\",\n",
    "        width=1200,\n",
    "        height=300,\n",
    "        showlegend=False,\n",
    "    )\n",
    "\n",
    "    waterfalls.append(fig)\n",
    "    fig.write_image(f\"20-{y0}_to_{y1}.png\", width=1200, height=500, scale=2)\n",
    "    fig.show()"
   ]
  },
  {
   "cell_type": "markdown",
   "id": "99beff72",
   "metadata": {},
   "source": [
    "**2018 → 2019**\n",
    "* Gross profit rose primarily due to volume growth\n",
    "* Price effect was slightly negative, suggesting pricing pressure\n",
    "* Discounts had neutral effect — possible flat structure\n",
    "* Cost improved marginally, supporting bottom-line growth\n",
    "\n",
    "**2019 → 2020**\n",
    "* Strong profit increase, with volume as the main driver again\n",
    "* Price contributed positively — pricing strategy improved\n",
    "* Cost and discount both slightly eroded profits\n",
    "\n",
    "**2020 → 2021**\n",
    "* Largest YoY GP growth\n",
    "* Volume again is the top contributor\n",
    "* Discount effect remains negative — may indicate aggressive promotions\n",
    "* Cost control slipped slightly — opportunity to review procurement or operations\n",
    "\n",
    "\n",
    "**Strategic Implications:** \n",
    "\n",
    "The waterfall analysis reveals a business in rapid scaling mode with strong fundamentals - consistent volume growth, pricing power, and managed cost scaling. The pattern suggests sustainable growth with opportunity for operational efficiency improvements."
   ]
  },
  {
   "cell_type": "markdown",
   "id": "7c50b0da",
   "metadata": {},
   "source": [
    "## 2.5 📊 All Final Visualizations and conclusions <a id='fin_conclusions'></a>\n",
    "[Download all graphs (PDF)](/graphs.pdf)"
   ]
  },
  {
   "cell_type": "code",
   "execution_count": null,
   "id": "39d47e4a",
   "metadata": {},
   "outputs": [],
   "source": [
    "image_folder = \"graphs\"\n",
    "\n",
    "image_files = sorted([f for f in os.listdir(image_folder) if f.endswith(\".png\")])\n",
    "\n",
    "for file in image_files:\n",
    "    print({file})\n",
    "    display(Image(filename=os.path.join(image_folder, file), width=1200))\n"
   ]
  },
  {
   "cell_type": "markdown",
   "id": "f8ecd706",
   "metadata": {},
   "source": [
    "# 🎯 Final Strategic Conclusion\n",
    "\n",
    "## Executive Summary\n",
    "\n",
    "AtliQ Hardware has demonstrated exceptional business performance from 2018-2021, achieving a remarkable compound annual growth rate of 103.32% while maintaining stable gross margins around 61%. The company has successfully transitioned from a startup-phase operation to an established market player with predictable revenue streams and strong operational discipline.\n",
    "\n",
    "## Key Performance Highlights\n",
    "\n",
    "**Financial Excellence:**\n",
    "- Revenue growth from $2.24M (2018) to $18.85M (2021) - an 8.4x increase\n",
    "- Gross profit scaled from $1.36M to $11.51M with consistent 61% margins\n",
    "- Evolved from high-volatility growth (2020) to stable, predictable performance (2021)\n",
    "- Strong seasonal patterns with October-December representing peak performance periods\n",
    "\n",
    "**Market Position:**\n",
    "- Geographic concentration with India leading (28.7% market share, $10.4M revenue)\n",
    "- Successful expansion across 20+ international markets\n",
    "- Consistent gross margins (60-65%) across all geographic regions\n",
    "\n",
    "## Strategic Portfolio Analysis\n",
    "\n",
    "**Market Segmentation:**\n",
    "- **Premium Markets (High Margin, High Volume):** Indonesia, Australia, Norway, France, Italy, Germany, Philippines, South Korea, USA - representing ideal performance quadrant\n",
    "- **Volume Markets (Low Margin, High Volume):** India, Canada, United Kingdom - critical for scale despite margin pressure\n",
    "- **Niche Markets (High Margin, Low Volume):** Bangladesh, Chile, New Zealand, Sweden, Pakistan - development opportunities\n",
    "- **Challenge Markets (Low Margin, Low Volume):** Mexico, Austria, Japan, Spain, Portugal, Colombia, Netherlands, Brazil - requiring strategic review\n",
    "\n",
    "**Product Concentration:**\n",
    "- Both categories demonstrate consistent operational efficiency with nearly identical gross margins\n",
    "- Heavy dependence on Internal HDD (84% revenue) creates both strength and risk\n",
    "- Graphic Cards segment (16% revenue) offers diversification potential with identical 61% margins\n",
    "\n",
    "## Growth Drivers & Operational Excellence\n",
    "\n",
    "**Volume Leadership:** Consistently the primary driver of gross profit growth across all periods, indicating strong market demand and successful scaling strategies\n",
    "\n",
    "**Pricing Power:** Positive price contribution in all growth periods demonstrates effective market positioning and competitive advantage\n",
    "\n",
    "**Cost Management:** Proportional cost scaling relative to growth, though increasing pressures suggest need for operational efficiency focus\n",
    "\n",
    "**Promotional Discipline:** Minimal discount impact indicates strategic promotional approach without margin erosion\n",
    "\n",
    "## Strategic Recommendations\n",
    "\n",
    "**Immediate Priorities:**\n",
    "1. **Protect Core Markets:** Maintain competitive advantage in premium markets while defending India's massive volume contribution\n",
    "2. **Diversify Risk:** Reduce dependence on Internal HDD through strategic expansion of Graphic Cards and new product categories\n",
    "3. **Optimize Challenge Markets:** Implement strategic review for low-margin, low-volume markets - either improve efficiency or consider selective market exit\n",
    "4. **Leverage Seasonality:** Capitalize on predictable Q2 strength (Oct-Dec) while developing initiatives to boost Q3-Q4 performance (Jan-Mar)\n",
    "\n",
    "**Long-term Strategic Vision:**\n",
    "- **Geographic Expansion:** Scale niche markets with proven margin potential while maintaining operational efficiency\n",
    "- **Product Diversification:** Leverage identical margin structure to expand beyond storage solutions\n",
    "- **Operational Maturity:** Continue transition from high-growth volatility to sustainable, predictable business operations\n",
    "- **Market Leadership:** Consolidate position as regional hardware leader while expanding global footprint\n",
    "\n",
    "## Risk Mitigation\n",
    "\n",
    "**Concentration Risk:** Heavy dependence on India (28.7% market share) and Internal HDD (84% revenue) requires diversification strategy\n",
    "\n",
    "**Market Volatility:** Seasonal fluctuations demand robust cash flow management and inventory planning\n",
    "\n",
    "**Competitive Pressure:** Maintain pricing power through continued innovation and operational excellence\n",
    "\n",
    "## Final Assessment\n",
    "\n",
    "AtliQ Hardware represents a success story of rapid, sustainable growth with strong operational fundamentals. The company has achieved the challenging balance of high growth rates while maintaining profitability and operational discipline. The transition from startup volatility to mature, predictable performance positions AtliQ for continued success in the competitive hardware market.\n",
    "\n",
    "The strategic foundation is solid: proven ability to scale operations, consistent margin management across diverse markets, and strong seasonal patterns that enable effective planning. With focused execution on diversification, operational efficiency, and strategic market development, AtliQ Hardware is well-positioned to maintain its growth trajectory while building long-term market leadership.\n",
    "\n",
    "**Strategic Outlook:** Strong operational foundation with identified growth opportunities and recognized risk areas requiring strategic attention."
   ]
  },
  {
   "cell_type": "markdown",
   "id": "895eaa57",
   "metadata": {},
   "source": [
    "### 📎 Appendix: Full Graphs (PDF)\n",
    "\n"
   ]
  },
  {
   "cell_type": "markdown",
   "id": "5e298d72",
   "metadata": {},
   "source": [
    "[Back to Contents](#back)"
   ]
  },
  {
   "cell_type": "markdown",
   "id": "9778a03a",
   "metadata": {},
   "source": [
    "\n",
    "<h2 style=\"background-color:#6027ae; color:white; padding:10px; border-radius:6px; text-align:center\">\n",
    "3. Prioritizing Hypotheses, A/B Test Analysis\n",
    "</h2>\n",
    "<a id='hypo'></a>\n"
   ]
  },
  {
   "cell_type": "markdown",
   "id": "5e27ada0",
   "metadata": {},
   "source": [
    "<h3 style=\"color:#8199cf; margin-top:20px\">3.1 Formulating Hypothesis </h3>\n",
    "<a id='prior'></a>"
   ]
  },
  {
   "cell_type": "markdown",
   "id": "3a32b780",
   "metadata": {},
   "source": [
    "**Hypothesis:** Margins remain the same during high periods (Oct-Dec) and declines (Jan-Mar)\n",
    "\n",
    "H₀ (Null Hypothesis): Gross margins during high-revenue periods (Oct-Dec) are equal to gross margins during low-revenue periods (Jan-Mar)\n",
    "\n",
    "H₁ (Alternative Hypothesis): Gross margins during high-revenue periods (Oct-Dec) are significantly different from gross margins during low-revenue periods (Jan-Mar)\n"
   ]
  },
  {
   "cell_type": "markdown",
   "id": "7078a3d9",
   "metadata": {},
   "source": [
    "<h3 style=\"color:#8199cf; margin-top:20px\">3.2 A/B Testing </h3>\n",
    "<a id='ab'></a>"
   ]
  },
  {
   "cell_type": "code",
   "execution_count": null,
   "id": "c5ef6367",
   "metadata": {},
   "outputs": [],
   "source": [
    "df['gross_margin_pct'] = (df['gp'] / df['revenue']) * 100"
   ]
  },
  {
   "cell_type": "code",
   "execution_count": null,
   "id": "26fe7ceb",
   "metadata": {},
   "outputs": [],
   "source": [
    "peak_data = df[df[\"calendar_month\"].isin([10, 11, 12])]  # Oct-Dec\n",
    "decline_data = df[df[\"calendar_month\"].isin([1, 2, 3])]  # Jan-Mar"
   ]
  },
  {
   "cell_type": "code",
   "execution_count": null,
   "id": "942396c0",
   "metadata": {},
   "outputs": [],
   "source": [
    "peak_monthly = (\n",
    "    peak_data.groupby([\"fiscal_year\", \"calendar_month\"])\n",
    "    .agg({\"gp\": \"sum\", \"revenue\": \"sum\"})\n",
    "    .reset_index()\n",
    ")"
   ]
  },
  {
   "cell_type": "code",
   "execution_count": null,
   "id": "8b1ce3bf",
   "metadata": {},
   "outputs": [],
   "source": [
    "decline_monthly = (\n",
    "    decline_data.groupby([\"fiscal_year\", \"calendar_month\"])\n",
    "    .agg({\"gp\": \"sum\", \"revenue\": \"sum\"})\n",
    "    .reset_index()\n",
    ")"
   ]
  },
  {
   "cell_type": "code",
   "execution_count": null,
   "id": "d1ef69f1",
   "metadata": {},
   "outputs": [],
   "source": [
    "peak_monthly[\"margin\"] = (peak_monthly[\"gp\"] / peak_monthly[\"revenue\"]) * 100\n",
    "decline_monthly[\"margin\"] = (decline_monthly[\"gp\"] / decline_monthly[\"revenue\"]) * 100"
   ]
  },
  {
   "cell_type": "code",
   "execution_count": null,
   "id": "4f939e84",
   "metadata": {},
   "outputs": [],
   "source": [
    "peak_margins = peak_monthly[\"margin\"].values\n",
    "decline_margins = decline_monthly[\"margin\"].values\n"
   ]
  },
  {
   "cell_type": "code",
   "execution_count": null,
   "id": "f64b4322",
   "metadata": {},
   "outputs": [],
   "source": [
    "print(\"=== DESCRIPTIVE STATISTICS ===\")\n",
    "print(f\"Peak months (Oct-Dec):\")\n",
    "print(f\"  Mean: {np.mean(peak_margins):.2f}%\")\n",
    "print(f\"  Std: {np.std(peak_margins):.2f}%\")\n",
    "print(f\"  Count: {len(peak_margins)}\")\n",
    "\n",
    "print(f\"\\nDecline months (Jan-Mar):\")\n",
    "print(f\"  Mean: {np.mean(decline_margins):.2f}%\")\n",
    "print(f\"  Std: {np.std(decline_margins):.2f}%\")\n",
    "print(f\"  Count: {len(decline_margins)}\")"
   ]
  },
  {
   "cell_type": "code",
   "execution_count": null,
   "id": "0bcdfde8",
   "metadata": {},
   "outputs": [],
   "source": [
    "t_stat, p_value = stats.ttest_ind(peak_margins, decline_margins)"
   ]
  },
  {
   "cell_type": "code",
   "execution_count": null,
   "id": "31c99de2",
   "metadata": {},
   "outputs": [],
   "source": [
    "print(f\"\\n=== TEST RESULTS ===\")\n",
    "print(f\"T-statistic: {t_stat:.4f}\")\n",
    "print(f\"P-value: {p_value:.4f}\")"
   ]
  },
  {
   "cell_type": "code",
   "execution_count": null,
   "id": "e787186b",
   "metadata": {},
   "outputs": [],
   "source": [
    "alpha = 0.05\n",
    "if p_value < alpha:\n",
    "    print(f\"\\n❌ HYPOTHESIS REJECTED (p < {alpha})\")\n",
    "    print(\"Peak and decline margins are SIGNIFICANTLY DIFFERENT\")\n",
    "\n",
    "    if np.mean(peak_margins) > np.mean(decline_margins):\n",
    "        print(\"→ Peak margins are HIGHER than decline margins\")\n",
    "        print(\"→ You have pricing power during high demand periods\")\n",
    "    else:\n",
    "        print(\"→ Peak margins are LOWER than decline margins\")\n",
    "        print(\"→ Possibly excessive discounting during peak periods\")\n",
    "\n",
    "else:\n",
    "    print(f\"\\n✅ HYPOTHESIS SUPPORTED (p ≥ {alpha})\")\n",
    "    print(\"Peak and decline margins are NOT significantly different\")\n",
    "    print(\"→ Excellent pricing discipline!\")\n",
    "    print(\"→ Consistent operational efficiency\")"
   ]
  },
  {
   "cell_type": "code",
   "execution_count": null,
   "id": "ed5da4d8",
   "metadata": {},
   "outputs": [],
   "source": [
    "plt.figure(figsize=(10, 6))\n",
    "\n",
    "# Box plots\n",
    "plt.subplot(1, 2, 1)\n",
    "plt.boxplot([peak_margins, decline_margins], tick_labels=[\"Peak\", \"Decline\"])\n",
    "plt.title(\"Margin Distribution\")\n",
    "plt.ylabel(\"Margin %\")\n",
    "\n",
    "# Time series\n",
    "plt.subplot(1, 2, 2)\n",
    "plt.plot(range(len(peak_margins)), peak_margins, \"ro-\", label=\"Peak\")\n",
    "plt.plot(range(len(decline_margins)), decline_margins, \"bo-\", label=\"Decline\")\n",
    "plt.title(\"Margins Over Time\")\n",
    "plt.ylabel(\"Margin %\")\n",
    "plt.legend()\n",
    "\n",
    "plt.tight_layout()\n",
    "plt.show()\n",
    "\n",
    "print(f\"\\n📊 Monthly details:\")\n",
    "print(\"Peak months:\")\n",
    "print(peak_monthly[[\"fiscal_year\", \"calendar_month\", \"margin\"]])\n",
    "print(\"\\nDecline months:\")\n",
    "print(decline_monthly[[\"fiscal_year\", \"calendar_month\", \"margin\"]])"
   ]
  },
  {
   "cell_type": "markdown",
   "id": "25c94ff2",
   "metadata": {},
   "source": [
    "<h3 style=\"color:#8199cf; margin-top:20px\">3.3 Conclusions </h3>\n",
    "<a id='hypo_conclusions'></a>"
   ]
  },
  {
   "cell_type": "markdown",
   "id": "bdde3c88",
   "metadata": {},
   "source": [
    "The hypothesis test comparing gross margins during high-revenue months (October–December) and low-revenue months (January–March) yielded a p-value greater than 0.05, indicating no statistically significant difference between the two periods.\n",
    "\n",
    "✅ This supports the null hypothesis, suggesting that the company maintains consistent margins across seasonal demand fluctuations.\n",
    "\n",
    "📌 Key implications:\n",
    "\n",
    "Excellent pricing discipline: The company successfully avoids margin erosion even when demand is high.\n",
    "\n",
    "Operational efficiency: Cost structures and discounting strategies appear to be well-managed and stable throughout the fiscal year.\n",
    "\n",
    "This consistency strengthens overall profitability and reduces risk related to seasonal volatility.\n",
    "\n",
    "👉 No immediate intervention is needed in pricing or cost strategies across these periods, though continued monitoring is recommended to maintain this performance."
   ]
  },
  {
   "cell_type": "markdown",
   "id": "e67ec928",
   "metadata": {},
   "source": [
    "[Back to Contents](#back)"
   ]
  },
  {
   "cell_type": "markdown",
   "id": "fdb9bfe3",
   "metadata": {},
   "source": [
    "\n",
    "<h2 style=\"background-color:black; color:white; padding:10px; border-radius:6px; text-align:center\">\n",
    "4. Financial Health Dashboard\n",
    "</h2>\n",
    "<a id='dash'></a>"
   ]
  },
  {
   "cell_type": "code",
   "execution_count": null,
   "id": "63d5cec4",
   "metadata": {},
   "outputs": [],
   "source": [
    "df.to_csv('atliq.csv', index=False, encoding=\"utf-8\")"
   ]
  },
  {
   "cell_type": "markdown",
   "id": "ddeaa7ab",
   "metadata": {},
   "source": [
    "<h3 style=\"color:#8199cf; margin-top:20px\">4.1 The Dashboard</h3>\n",
    "<a id='dash'></a>"
   ]
  },
  {
   "cell_type": "markdown",
   "id": "88f1ec91",
   "metadata": {},
   "source": [
    "### 📎 You can view the interactive Financial Health Dashboard [here](https://public.tableau.com/shared/TZM5WJZMY?:display_count=n&:origin=viz_share_link)"
   ]
  },
  {
   "cell_type": "code",
   "execution_count": null,
   "id": "3f1b4913",
   "metadata": {},
   "outputs": [],
   "source": [
    "image_folder = \"dash screens\"\n",
    "\n",
    "image_files = sorted([f for f in os.listdir(image_folder) if f.endswith(\".png\")])\n",
    "\n",
    "for file in image_files:\n",
    "    print({file})\n",
    "    display(Image(filename=os.path.join(image_folder, file), width=1200))"
   ]
  },
  {
   "cell_type": "markdown",
   "id": "d582f532",
   "metadata": {},
   "source": [
    "**Dashboard Description:**\n",
    "\n",
    "The dashboard provides a multi-dimensional view of AtliQ Hardware’s financial performance across markets, time periods, and product categories. The user can dynamically toggle between three key metrics — Revenue, Gross Profit and Gross Margin — and between two product categories — Graphic Cards and Internal HDDs, having an opportunity to choose the range of fiscal years.\n",
    "\n",
    "It includes:\n",
    "\n",
    "* Global market performance map: Highlights top-performing regions with exact revenue or profit figures.\n",
    "\n",
    "* Revenue breakdown by market: Lists countries sorted by total revenue.\n",
    "\n",
    "* Monthly and weekday trends: Shows how revenue and gross profit evolve across the calendar year and across the week.\n",
    "\n",
    "* Time series graph: Compares revenue, gross profit and gross margin trends over time.\n",
    "\n",
    "* Category distribution pie chart: Displays the contribution of each product line to total revenue."
   ]
  },
  {
   "cell_type": "markdown",
   "id": "2d228db2",
   "metadata": {},
   "source": [
    "\n",
    "<h3 style=\"color:#8199cf; margin-top:20px\">4.2 Conclusions</h3>\n",
    "<a id='dash_conclusion'></a>"
   ]
  },
  {
   "cell_type": "markdown",
   "id": "277283a9",
   "metadata": {},
   "source": [
    "**Key Insights and Conclusions:**\n",
    "\n",
    "Seasonality and Demand Patterns:\n",
    "\n",
    "* Revenue and gross profit exhibit strong seasonality, peaking in November and December across all years.\n",
    "\n",
    "* A significant drop is observed in January through March, confirming a demand decline post-peak season.\n",
    "\n",
    "* Weekday sales patterns differ throughout the years and categories. It is worth mentioning that in 2018 there were no sales on Saturdays. Apparently, the company made changes on the operating days to boost sales.\n",
    "\n",
    "Consistent Margins Across Seasons:\n",
    "\n",
    "* Despite fluctuations in sales volume, gross margins remain relatively stable throughout high and low seasons. This suggests excellent pricing discipline and strong cost control, reinforcing operational efficiency.\n",
    "\n",
    "Market-Level Performance:\n",
    "\n",
    "* India and the USA dominate in both revenue and gross profit.\n",
    "\n",
    "* High variance exists across regions, suggesting potential to optimize marketing or distribution in underperforming markets like South America and parts of Europe.\n",
    "\n",
    "Category Contribution:\n",
    "\n",
    "* The pie chart shows that Internal HDDs contribute significantly more revenue and profit than Graphic Cards*, with potential implications for category-specific pricing or inventory strategies.\n",
    "\n"
   ]
  },
  {
   "cell_type": "markdown",
   "id": "b047c038",
   "metadata": {},
   "source": [
    "[Back to Contents](#back)"
   ]
  }
 ],
 "metadata": {
  "kernelspec": {
   "display_name": "Python 3 (ipykernel)",
   "language": "python",
   "name": "python3"
  },
  "language_info": {
   "codemirror_mode": {
    "name": "ipython",
    "version": 3
   },
   "file_extension": ".py",
   "mimetype": "text/x-python",
   "name": "python",
   "nbconvert_exporter": "python",
   "pygments_lexer": "ipython3",
   "version": "3.9.23"
  }
 },
 "nbformat": 4,
 "nbformat_minor": 5
}
